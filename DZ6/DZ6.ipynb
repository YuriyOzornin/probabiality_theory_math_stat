{
 "cells": [
  {
   "cell_type": "code",
   "execution_count": 1,
   "metadata": {},
   "outputs": [],
   "source": [
    "import numpy as np\n",
    "import scipy.stats as stats"
   ]
  },
  {
   "attachments": {},
   "cell_type": "markdown",
   "metadata": {},
   "source": [
    "#### Задача 1\n",
    "\n",
    "    Известно, что генеральная совокупность распределена нормально со средним квадратическим отклонением, равным 16.\\\n",
    "    Найти доверительный интервал для оценки математического ожидания a с надежностью 0.95, если выборочная средняя M = 80, а объем выборки n = 256."
   ]
  },
  {
   "attachments": {},
   "cell_type": "markdown",
   "metadata": {},
   "source": [
    "При известной $\\sigma$ генеральной совокупности для расчета доверительного интервала пирменяется $Z$-критерий.\\\n",
    "$n=256$ - объем выборки\\\n",
    "$\\bar X=M=80$ - среднее значение выборки   \n",
    "$\\sigma=16$ - среднее квадратическое отклонение генеральной совокупности  \n",
    "$z_{\\alpha/2}=1,96$  - табличное значение $Z$-критерия для $95\\%$ доверительного интервала      \n",
    "Формула нахождения доверительного интервала  \n",
    "$\\displaystyle\\bar X\\pm z_{\\alpha/2}\\cdot\\frac{\\sigma}{\\sqrt n}$   \n"
   ]
  },
  {
   "cell_type": "code",
   "execution_count": 87,
   "metadata": {},
   "outputs": [
    {
     "name": "stdout",
     "output_type": "stream",
     "text": [
      ">>> Доверительный интервал: [78.04 ; 81.96].\n"
     ]
    }
   ],
   "source": [
    "l_border=80-1.96*16/256**0.5\n",
    "r_border=80+1.96*16/256**0.5\n",
    "print(f'>>> Доверительный интервал: [{l_border} ; {r_border}].')"
   ]
  },
  {
   "attachments": {},
   "cell_type": "markdown",
   "metadata": {},
   "source": [
    "#### Задача 2\n",
    "    В результате 10 независимых измерений некоторой величины X, выполненных с одинаковой точностью,  \n",
    "    получены опытные данные: 6.9, 6.1, 6.2, 6.8, 7.5, 6.3, 6.4, 6.9, 6.7, 6.1  \n",
    "    Предполагая, что результаты измерений подчинены нормальному закону распределения вероятностей, оценить истинное значение величины X  \n",
    "    при помощи доверительного интервала, покрывающего это значение с доверительной вероятностью 0,95."
   ]
  },
  {
   "attachments": {},
   "cell_type": "markdown",
   "metadata": {},
   "source": [
    "Если $\\sigma$ неизвестна, вычисляем ее по выборке, используя формулу для несмещенного стандартного отклонения.   \n",
    "$\\displaystyle\\bar X\\pm t_{\\alpha/2}\\cdot\\frac{\\sigma}{\\sqrt{n}}$  "
   ]
  },
  {
   "cell_type": "code",
   "execution_count": 88,
   "metadata": {},
   "outputs": [
    {
     "name": "stdout",
     "output_type": "stream",
     "text": [
      ">>> Среднее арифметическое для выборки: 6.590000000000001\n",
      ">>> Среднее квадратическое отклонение по выборке(несмещенное): 0.4508017549014448\n",
      ">>> Значение t-критерия для 0.95% доверительного интервала: 2.2621571627409915\n",
      ">>> Доверительный интервал для величины \"X\" составляет: [6.268 ; 6.912]\n"
     ]
    }
   ],
   "source": [
    "array = [6.9, 6.1, 6.2, 6.8, 7.5, 6.3, 6.4, 6.9, 6.7, 6.1]\n",
    "n = len(array)\n",
    "x = np.mean(array)\n",
    "print(f'>>> Среднее арифметическое для выборки: {x}')\n",
    "a = 0.05\n",
    "sigma = np.std(array, ddof=1)\n",
    "print(f'>>> Среднее квадратическое отклонение по выборке(несмещенное): {sigma}')\n",
    "stats = stats.t.ppf( 1-a/2, n-1)\n",
    "print(f'>>> Значение t-критерия для {1-a}% доверительного интервала: {stats}')\n",
    "l_border=x-stats*sigma/np.sqrt(n)\n",
    "r_border=x+stats*sigma/np.sqrt(n)\n",
    "print(f'>>> Доверительный интервал для величины \"X\" составляет: [{l_border:.3f} ; {r_border:.3f}]')"
   ]
  },
  {
   "attachments": {},
   "cell_type": "markdown",
   "metadata": {},
   "source": [
    "#### Задача 3\n",
    "    Рост дочерей 175, 167, 154, 174, 178, 148, 160, 167, 169, 170  \n",
    "    Рост матерей 178, 165, 165, 173, 168, 155, 160, 164, 178, 175  \n",
    "    Используя эти данные построить 95% доверительный интервал для разности среднего роста родителей и детей."
   ]
  },
  {
   "attachments": {},
   "cell_type": "markdown",
   "metadata": {},
   "source": [
    "Интервальная оценка для разности средних арифметических по формуле: \n",
    " \n",
    "$\\bar{x}_1 - \\bar{x}2 \\pm t{\\frac{\\alpha}{2}} \\sqrt{\\frac{s_1^2}{n_1} + \\frac{s_2^2}{n_2}}$\n",
    "\n",
    "где:  \n",
    "$\\bar{x}_1$ - среднее арифметическое в группе 1  \n",
    "$\\bar{x}2$ - среднее арифметическое в группе 2  \n",
    "$s_1^2$ - дисперсия в группе 1  \n",
    "$s_2^2$ - дисперсия в группе 2  \n",
    "$n_1$ - число элементов в группе 1  \n",
    "$n_2$ - число элементов в группе 2  "
   ]
  },
  {
   "cell_type": "code",
   "execution_count": 5,
   "metadata": {},
   "outputs": [
    {
     "name": "stdout",
     "output_type": "stream",
     "text": [
      ">>> 95% доверительный интервал для разности среднего роста родителей и детей: [-6.27, 10.07]\n"
     ]
    }
   ],
   "source": [
    "mothers = np.array([178, 165, 165, 173, 168, 155, 160, 164, 178, 175])\n",
    "daughters = np.array([175, 167, 154, 174, 178, 148, 160, 167, 169, 170])\n",
    "\n",
    "difference_of_means = np.mean(mothers) - np.mean(daughters)\n",
    "standard_error = np.sqrt(np.var(mothers, ddof=1)/len(mothers) + np.var(daughters, ddof=1)/len(daughters))\n",
    "t_critical = stats.t.ppf(0.975, len(mothers) + len(daughters) - 2)\n",
    "l_border = difference_of_means - t_critical * standard_error\n",
    "r_border = difference_of_means + t_critical * standard_error\n",
    "\n",
    "print(f'>>> 95% доверительный интервал для разности среднего роста родителей и детей: [{l_border:.2f}, {r_border:.2f}]')\n"
   ]
  }
 ],
 "metadata": {
  "kernelspec": {
   "display_name": "Python 3",
   "language": "python",
   "name": "python3"
  },
  "language_info": {
   "codemirror_mode": {
    "name": "ipython",
    "version": 3
   },
   "file_extension": ".py",
   "mimetype": "text/x-python",
   "name": "python",
   "nbconvert_exporter": "python",
   "pygments_lexer": "ipython3",
   "version": "3.11.0"
  },
  "orig_nbformat": 4,
  "vscode": {
   "interpreter": {
    "hash": "f99b0d7b2032c78286f87aca85b3d6980edc424abfeeb901c0d39dce752615a7"
   }
  }
 },
 "nbformat": 4,
 "nbformat_minor": 2
}
