{
 "cells": [
  {
   "cell_type": "raw",
   "id": "be7ad070-2358-4347-bdfd-60126b419222",
   "metadata": {},
   "source": [
    "1.Даны значения величины заработной платы заемщиков банка (zp) и значения их поведенческого кредитного скоринга (ks): zp = [35, 45, 190, 200, 40, 70, 54, 150, 120, 110], ks = [401, 574, 874, 919, 459, 739, 653, 902, 746, 832]. Используя математические операции, посчитать коэффициенты линейной регрессии, приняв за X заработную плату (то есть, zp - признак), а за y - значения скорингового балла (то есть, ks - целевая переменная). Произвести расчет как с использованием intercept, так и без."
   ]
  },
  {
   "cell_type": "code",
   "execution_count": 3,
   "id": "06163b9d-acaa-48c3-9924-c6d1428c4569",
   "metadata": {},
   "outputs": [
    {
     "data": {
      "image/png": "[encoded data removed]",
      "text/plain": [
       "<Figure size 432x288 with 1 Axes>"
      ]
     },
     "metadata": {
      "needs_background": "light"
     },
     "output_type": "display_data"
    }
   ],
   "source": [
    "import numpy as np\n",
    "import matplotlib.pyplot as plt\n",
    "\n",
    "zp = np.array([35, 45, 190, 200, 40, 70, 54, 150, 120, 110])\n",
    "ks = np.array([401, 574, 874, 919, 459, 739, 653, 902, 746, 832])\n",
    "plt.scatter(zp, ks)\n",
    "plt.xlabel('Заработная плата заемщиков')\n",
    "plt.ylabel('Поведенческий кредитный скоринг', rotation = 90)\n",
    "plt.show()"
   ]
  },
  {
   "cell_type": "raw",
   "id": "3fb651d4-d709-42d7-ba3b-235ace96d323",
   "metadata": {},
   "source": [
    "похоже на линейную зависимость"
   ]
  },
  {
   "attachments": {
    "c4107be8-4186-4aff-b9d4-026a9f1a6adb.png": {
     "image/png": "[encoded data removed]"
    }
   },
   "cell_type": "markdown",
   "id": "423aafab-0e74-4084-91ac-c04f1f92aa5a",
   "metadata": {},
   "source": [
    "𝑏=  (𝑛∑_(𝑖=1)^𝑛▒〖𝑥_𝑖 𝑦_𝑖−(∑_(𝑖=1)^𝑛▒𝑥_𝑖 )(∑_(𝑖=1)^𝑛▒𝑦_𝑖 )〗)/(𝑛∑_(𝑖=1)^𝑛▒〖𝑥_𝑖〗_^2 −〖(∑_(𝑖=1)^𝑛▒𝑥_𝑖 )〗^2 )![image.png](attachment:c4107be8-4186-4aff-b9d4-026a9f1a6adb.png)![image.png]"
   ]
  },
  {
   "cell_type": "code",
   "execution_count": 5,
   "id": "625b1d10-dd25-43dc-adbf-6c275412b6bc",
   "metadata": {},
   "outputs": [
    {
     "data": {
      "text/plain": [
       "2.620538882402765"
      ]
     },
     "execution_count": 5,
     "metadata": {},
     "output_type": "execute_result"
    }
   ],
   "source": [
    "b = (np.mean(zp * ks) - np.mean(zp) * np.mean(ks)) / (np.mean(zp ** 2) - np.mean(zp) ** 2)\n",
    "b"
   ]
  },
  {
   "attachments": {
    "2a4d66fe-146b-40ce-9220-e64295ad0255.png": {
     "image/png": "[encoded data removed]"
    }
   },
   "cell_type": "markdown",
   "id": "7c54bcf5-e76d-4751-9871-3beca044cb22",
   "metadata": {},
   "source": [
    "𝑎= 𝑦 ̅− b𝑥 ̅![image.png](attachment:2a4d66fe-146b-40ce-9220-e64295ad0255.png)!"
   ]
  },
  {
   "cell_type": "code",
   "execution_count": 6,
   "id": "02e2e0b1-4d0e-47f8-8812-def68fb33b75",
   "metadata": {},
   "outputs": [
    {
     "data": {
      "text/plain": [
       "444.1773573243596"
      ]
     },
     "execution_count": 6,
     "metadata": {},
     "output_type": "execute_result"
    }
   ],
   "source": [
    "a = np.mean(ks) - b * np.mean(zp)\n",
    "a"
   ]
  },
  {
   "cell_type": "code",
   "execution_count": 7,
   "id": "acfdc4f6-b07c-4641-9265-bbc1bdf10c4f",
   "metadata": {},
   "outputs": [
    {
     "data": {
      "image/png": "[encoded data removed]",
      "text/plain": [
       "<Figure size 432x288 with 1 Axes>"
      ]
     },
     "metadata": {
      "needs_background": "light"
     },
     "output_type": "display_data"
    }
   ],
   "source": [
    "plt.scatter(zp, ks)\n",
    "plt.plot(zp, a + b * zp, c = 'r')\n",
    "plt.xlabel('Заработая плата заемщиков')\n",
    "plt.ylabel('Поведенческий кредитный скоринг', rotation = 90)\n",
    "plt.show()"
   ]
  },
  {
   "cell_type": "raw",
   "id": "1a8b63b8-15f8-4a47-b323-3cfd7795cb2a",
   "metadata": {},
   "source": [
    "видим линейную взаимосвязь между величиной заработной платы и значением кредитного скоринга"
   ]
  },
  {
   "cell_type": "raw",
   "id": "c6c86401-60d5-4993-9030-1974710352a4",
   "metadata": {},
   "source": [
    "2. Посчитать коэффициент линейной регрессии при заработной плате (zp), используя градиентный спуск (без intercept)."
   ]
  },
  {
   "cell_type": "code",
   "execution_count": 8,
   "id": "a4b0dc70-e83d-44e4-a9be-cb9c60104296",
   "metadata": {},
   "outputs": [],
   "source": [
    "def mse(b, x, y):\n",
    "    return np.sum((b * x - y) ** 2) / len(x)"
   ]
  },
  {
   "cell_type": "code",
   "execution_count": 9,
   "id": "37bc6129-57f8-451d-a1bf-e6b80f66e3c6",
   "metadata": {},
   "outputs": [
    {
     "data": {
      "text/plain": [
       "203763.93896082853"
      ]
     },
     "execution_count": 9,
     "metadata": {},
     "output_type": "execute_result"
    }
   ],
   "source": [
    "mse(b, zp, ks)"
   ]
  },
  {
   "cell_type": "code",
   "execution_count": 14,
   "id": "77473ec7-78fc-45a5-82e1-4d1acc474605",
   "metadata": {},
   "outputs": [],
   "source": [
    "def mse_p(b,x,y):\n",
    "    return (2 / len(x)) * np.sum((b * x - y) * x)"
   ]
  },
  {
   "cell_type": "code",
   "execution_count": 16,
   "id": "fdddb192-1e7c-4844-bf63-0e81de874dc5",
   "metadata": {},
   "outputs": [
    {
     "name": "stdout",
     "output_type": "stream",
     "text": [
      ">>> Итерация #0, b=0.25952808000000005, mse=493237.7212546963\n",
      ">>> Итерация #100, b=5.54537842245223, mse=58151.31823171113\n",
      ">>> Итерация #200, b=5.868748638669329, mse=56522.97550129376\n",
      ">>> Итерация #300, b=5.888531320728348, mse=56516.88130936019\n",
      ">>> Итерация #400, b=5.8897415574471985, mse=56516.85850140053\n",
      ">>> Итерация #500, b=5.889815595583751, mse=56516.858416040064\n",
      ">>> Итерация #600, b=5.889820124983314, mse=56516.85841572062\n",
      ">>> Итерация #628, b=5.889820285147628, mse=56516.85841571966,\n",
      ">>> Достигнут минимум\n",
      ">>> Получили 5.889820285147628 \n"
     ]
    }
   ],
   "source": [
    "alpha = 1e-6\n",
    "b = 0.1\n",
    "mse_min = mse(b, zp, ks)\n",
    "i_min = 1\n",
    "b_min = b\n",
    "iteration = 10000\n",
    "for i in range(iteration):\n",
    "    b -= alpha * mse_p(b, zp, ks)\n",
    "    if i % 100 == 0:\n",
    "        print(f'>>> Итерация #{i}, b={b}, mse={mse(b, zp, ks)}')\n",
    "    if mse(b, zp, ks) > mse_min:\n",
    "        print(f'>>> Итерация #{i_min}, b={b_min}, mse={mse_min},\\n>>> Достигнут минимум\\n>>> Получили {b_min} ')\n",
    "        break\n",
    "    else:\n",
    "        mse_min = mse(b,zp,ks)\n",
    "        i_min = i\n",
    "        b_min = b"
   ]
  },
  {
   "cell_type": "raw",
   "id": "8bd58f89-d0b8-44ad-8bf3-941afba1ea16",
   "metadata": {},
   "source": [
    "3. Произвести вычисления как в пункте 2, но с вычислением intercept. Учесть, что изменение коэффициентов должно производиться на каждом шаге одновременно (то есть изменение одного коэффициента не должно влиять на изменение другого во время одной итерации).\n",
    "\n",
    "Функция потерь^"
   ]
  },
  {
   "cell_type": "code",
   "execution_count": 17,
   "id": "c7d3abca-e24c-4f2b-a387-8b37633e05bd",
   "metadata": {},
   "outputs": [],
   "source": [
    "def mse_ab(a,b, x, y):\n",
    "    return np.sum(((a + b * x)-y) ** 2) / len(x)"
   ]
  },
  {
   "cell_type": "raw",
   "id": "24aa52ab-ff60-4794-a14b-ce2eda62d03b",
   "metadata": {},
   "source": [
    "Частная производная функции потерь a"
   ]
  },
  {
   "cell_type": "code",
   "execution_count": 18,
   "id": "b821ed97-9a66-4ff3-894c-47670542b282",
   "metadata": {},
   "outputs": [],
   "source": [
    "def mse_pa(a, b, x, y): \n",
    "    return 2 * np.sum((a + b * x) - y) / len(x)"
   ]
  },
  {
   "cell_type": "raw",
   "id": "52f816d0-b502-4686-8bbb-af490ad5adcc",
   "metadata": {},
   "source": [
    "Частная производная функции потерь по b"
   ]
  },
  {
   "cell_type": "code",
   "execution_count": 19,
   "id": "ee9f1478-d03f-4f51-b05e-9f11c9a6f0ea",
   "metadata": {},
   "outputs": [],
   "source": [
    "def mse_pb(a, b, x, y):\n",
    "    return 2 * np.sum(((a + b * x) - y) * x) / len(x)"
   ]
  },
  {
   "cell_type": "code",
   "execution_count": 20,
   "id": "9636510c-2b63-4c9e-a125-2cbccdcb78d3",
   "metadata": {},
   "outputs": [
    {
     "name": "stdout",
     "output_type": "stream",
     "text": [
      ">>> Итерация #0, a=0.14197959999999998, b=4.884978596113599, mse=70366.2821016992\n",
      ">>> Итерация #50000, a=236.72655235964433, b=4.147445287981601, mse=17387.09579189967\n",
      ">>> Итерация #100000, a=347.2559075176058, b=3.3339127474648516, mse=8853.283372220058\n",
      ">>> Итерация #150000, a=398.89545333636954, b=2.953828643644366, mse=6990.541626266601\n",
      ">>> Итерация #200000, a=423.0215571081485, b=2.7762525556795365, mse=6583.946467915477\n",
      ">>> Итерация #250000, a=434.29332323191153, b=2.69328863611563, mse=6495.195773862671\n",
      ">>> Итерация #300000, a=439.5595159313502, b=2.6545277194387675, mse=6475.823468184463\n",
      ">>> Итерация #350000, a=442.0198921708081, b=2.6364185381280407, mse=6471.594924044105\n",
      ">>> Итерация #400000, a=443.16938509390076, b=2.6279578907579992, mse=6470.671926759022\n",
      ">>> Итерация #450000, a=443.70643059087314, b=2.624005058617609, mse=6470.470456948132\n",
      ">>> Итерация #500000, a=443.95733936988626, b=2.622158287177236, mse=6470.426480562332\n",
      ">>> Итерация #550000, a=444.07456447602823, b=2.6212954716991606, mse=6470.41688149387\n",
      ">>> Итерация #600000, a=444.12933229069927, b=2.6208923625039224, mse=6470.414786230384\n",
      ">>> Итерация #650000, a=444.15491992822837, b=2.620704029045041, mse=6470.414328880896\n",
      ">>> Итерация #700000, a=444.1668745259701, b=2.6206160392593607, mse=6470.41422905166\n",
      ">>> Итерация #750000, a=444.17245973903704, b=2.6205749302474683, mse=6470.414207261152\n",
      ">>> Итерация #800000, a=444.17506916225733, b=2.620555724031177, mse=6470.4142025047695\n",
      ">>> Итерация #848812, a=444.1762687850084, b=2.6205468944117247, mse=6470.414201477225,\n",
      "Достигнут минимум.\n",
      ">>> a = 444.1762687850084\n",
      ">>> b = 2.6205468944117247\n"
     ]
    }
   ],
   "source": [
    "alpha = 3e-5\n",
    "b = 0.1\n",
    "a = 0.1\n",
    "mseab_min = mse_ab(a, b, zp, ks)\n",
    "i_min = 1\n",
    "b_min = b\n",
    "a_min = a\n",
    "iteration = 1000000   \n",
    "for i in range(iteration):\n",
    "    a -= alpha * mse_pa(a, b, zp, ks)\n",
    "    b -= alpha * mse_pb(a, b, zp, ks)\n",
    "    if i % 50000 == 0:\n",
    "        print(f'>>> Итерация #{i}, a={a}, b={b}, mse={mse_ab(a, b, zp, ks)}')\n",
    "    if mse_ab(a, b, zp, ks) > mseab_min:\n",
    "        print(f'>>> Итерация #{i_min}, a={a_min}, b={b_min}, mse={mseab_min},\\nДостигнут минимум.')\n",
    "        break\n",
    "    else:\n",
    "        mseab_min = mse_ab(a, b, zp, ks)\n",
    "        i_min = i\n",
    "        b_min = b\n",
    "        a_min = a\n",
    "print(f'>>> a = {a_min}\\n>>> b = {b_min}')"
   ]
  },
  {
   "cell_type": "code",
   "execution_count": 22,
   "id": "de8324b5-ba64-4c6b-a7b8-34d727d8254c",
   "metadata": {},
   "outputs": [
    {
     "data": {
      "image/png": "[encoded data removed]",
      "text/plain": [
       "<Figure size 432x288 with 1 Axes>"
      ]
     },
     "metadata": {
      "needs_background": "light"
     },
     "output_type": "display_data"
    }
   ],
   "source": [
    "plt.scatter(zp, ks)\n",
    "plt.plot(zp, a_min + b_min * zp, c = 'r')\n",
    "plt.xlabel('Зарплата плата заемщиков')\n",
    "plt.ylabel('Кредитный скоринг', rotation = 90)\n",
    "plt.show()"
   ]
  },
  {
   "cell_type": "code",
   "execution_count": null,
   "id": "08aa6f72-d61f-485f-9909-a7bc865154e6",
   "metadata": {},
   "outputs": [],
   "source": []
  }
 ],
 "metadata": {
  "kernelspec": {
   "display_name": "Python 3",
   "language": "python",
   "name": "python3"
  },
  "language_info": {
   "codemirror_mode": {
    "name": "ipython",
    "version": 3
   },
   "file_extension": ".py",
   "mimetype": "text/x-python",
   "name": "python",
   "nbconvert_exporter": "python",
   "pygments_lexer": "ipython3",
   "version": "3.10.10"
  }
 },
 "nbformat": 4,
 "nbformat_minor": 5
}
