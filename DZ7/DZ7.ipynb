{
 "cells": [
  {
   "cell_type": "code",
   "execution_count": 30,
   "metadata": {},
   "outputs": [],
   "source": [
    "import numpy as np\n",
    "import scipy.stats as stats\n",
    "import matplotlib.pyplot as plt"
   ]
  },
  {
   "attachments": {},
   "cell_type": "markdown",
   "metadata": {},
   "source": [
    "_1-4 задачи решать с помощью функций, 5ю вручную_  \n",
    "_Выбрать тест и проверить, есть ли различия между выборками:_"
   ]
  },
  {
   "attachments": {},
   "cell_type": "markdown",
   "metadata": {},
   "source": [
    "#### Задача 1\n",
    "Даны две независимые выборки. Не соблюдается условие нормальности\n",
    "\n",
    "$X1 = 380, 420, 290$  \n",
    "$Y1 = 140, 360, 200, 900$  \n",
    "\n",
    "Сделайте вывод по результатам, полученным с помощью функции  "
   ]
  },
  {
   "cell_type": "code",
   "execution_count": 31,
   "metadata": {},
   "outputs": [
    {
     "name": "stdout",
     "output_type": "stream",
     "text": [
      "\n",
      ">>> Statistics = 8.00 \n",
      ">>> Р-value = 0.629\n",
      ">>> Cтатистически значимых различий нет, нулевая гипотеза не отвергается.\n"
     ]
    }
   ],
   "source": [
    "alpha = 0.05\n",
    "x= np.array([380, 420, 290])\n",
    "y= np.array([140, 360, 200, 900])\n",
    "d = stats.mannwhitneyu(x,y)\n",
    "print('\\n>>> Statistics = %.2f \\n>>> Р-value = %.3f' % (d))\n",
    "s, p = stats.mannwhitneyu(x,y)\n",
    "if p > alpha:\n",
    "    print('>>> Cтатистически значимых различий нет, нулевая гипотеза не отвергается.')\n",
    "else:\n",
    "    print('>>> Cтатистически значимые различия присутствуют, нулевую гипотезу отвергаем.')"
   ]
  },
  {
   "attachments": {},
   "cell_type": "markdown",
   "metadata": {},
   "source": [
    "#### Задача 2\n",
    "Исследовалось влияние препарата на уровень давления пациентов. Сначала измерялось давление до приема препарата, потом через 10 минут и через 30 минут.  \n",
    "Есть ли статистически значимые различия?  \n",
    "\n",
    "$1е$ измерение до приема препарата:  \n",
    "$X1 = 150, 160, 165, 145, 155$  \n",
    "\n",
    "$2е$ измерение через 10 минут:  \n",
    "$X2 = 140, 155, 150, 130, 135$  \n",
    "\n",
    "$3е$ измерение через 30 минут:  \n",
    "$X3 = 130, 130, 120, 130, 125$  "
   ]
  },
  {
   "cell_type": "code",
   "execution_count": 32,
   "metadata": {},
   "outputs": [
    {
     "name": "stdout",
     "output_type": "stream",
     "text": [
      "\n",
      ">>> Statistics = 9.58 \n",
      ">>> Р-value = 0.008\n",
      ">>> Cтатистически значимые различия присутствуют, нулевую гипотезу отвергаем, препарат влияет на давление.\n"
     ]
    }
   ],
   "source": [
    "alpha=0.05\n",
    "x1=np.array([150, 160, 165, 145, 155])\n",
    "x2=np.array([140, 155, 150, 130, 135])\n",
    "x3=np.array([130, 130, 120, 130, 125])\n",
    "d = stats.friedmanchisquare(x1, x2, x3)\n",
    "print('\\n>>> Statistics = %.2f \\n>>> Р-value = %.3f' % (d))\n",
    "s, p = stats.friedmanchisquare(x1, x2, x3)\n",
    "if p > alpha:\n",
    "    print('>>> Cтатистически значимых различий нет, нулевая гипотеза не отвергается, препарат не влияет на давление.')\n",
    "else:\n",
    "    print('>>> Cтатистически значимые различия присутствуют, нулевую гипотезу отвергаем, препарат влияет на давление.')"
   ]
  },
  {
   "attachments": {},
   "cell_type": "markdown",
   "metadata": {},
   "source": [
    " #### Задача 3\n",
    " Сравните 1 и 2 е измерения, предполагая, что 3го измерения через 30 минут не было."
   ]
  },
  {
   "cell_type": "code",
   "execution_count": 33,
   "metadata": {},
   "outputs": [
    {
     "name": "stdout",
     "output_type": "stream",
     "text": [
      "\n",
      ">>> Statistics = 0.00 \n",
      ">>> Р-value = 0.062\n",
      ">>> Cтатистически значимых различий нет, нулевая гипотеза не отвергается, препарат не влияет на давление.\n"
     ]
    }
   ],
   "source": [
    "alpha=0.05\n",
    "x1=np.array([150, 160, 165, 145, 155])\n",
    "x2=np.array([140, 155, 150, 130, 135])\n",
    "d = stats.wilcoxon(x1, x2)\n",
    "print('\\n>>> Statistics = %.2f \\n>>> Р-value = %.3f' % (d))\n",
    "s, p = stats.wilcoxon(x1, x2)\n",
    "if p > alpha:\n",
    "    print('>>> Cтатистически значимых различий нет, нулевая гипотеза не отвергается, препарат не влияет на давление.')\n",
    "else:\n",
    "    print('>>> Cтатистически значимые различия присутствуют, нулевую гипотезу отвергаем, препарат влияет на давление.')"
   ]
  },
  {
   "attachments": {},
   "cell_type": "markdown",
   "metadata": {},
   "source": [
    "#### Задача 4\n",
    "Даны 3 группы учеников плавания.  \n",
    "\n",
    "В 1 группе время на дистанцию 50 м составляют:  \n",
    "$X1 = 56, 60, 62, 55, 71, 67, 59, 58, 64, 67$  \n",
    "Вторая группа:  \n",
    "$X2 = 57, 58, 69, 48, 72, 70, 68, 71, 50, 53$  \n",
    "Третья группа:  \n",
    "$X3 = 57, 67, 49, 48, 47, 55, 66, 51, 54$  \n",
    " \n",
    "Есть ли различия между группами?"
   ]
  },
  {
   "cell_type": "code",
   "execution_count": 34,
   "metadata": {},
   "outputs": [
    {
     "name": "stdout",
     "output_type": "stream",
     "text": [
      "\n",
      ">>> Statistics = 5.47 \n",
      ">>> Р-value = 0.065\n",
      ">>> Cтатистически значимых различий нет, нулевая гипотеза не отвергается, время на дистанцию одинаковое.\n"
     ]
    }
   ],
   "source": [
    "alpha=0.05\n",
    "x1=np.array([56, 60, 62, 55, 71, 67, 59, 58, 64, 67])\n",
    "x2=np.array([57, 58, 69, 48, 72, 70, 68, 71, 50, 53])\n",
    "x3=np.array([57, 67, 49, 48, 47, 55, 66, 51, 54])\n",
    "d = stats.kruskal(x1,x2,x3)\n",
    "print('\\n>>> Statistics = %.2f \\n>>> Р-value = %.3f' % (d))\n",
    "s, p = stats.kruskal(x1,x2,x3)\n",
    "if p > alpha:\n",
    "    print('>>> Cтатистически значимых различий нет, нулевая гипотеза не отвергается, время на дистанцию одинаковое.')\n",
    "else:\n",
    "    print('>>> Cтатистически значимые различия присутствуют, нулевую гипотезу отвергаем, время на дистанцию не одинаковое.')"
   ]
  },
  {
   "attachments": {},
   "cell_type": "markdown",
   "metadata": {},
   "source": [
    "#### Задача 5\n",
    "Заявляется, что партия изготавливается со средним арифметическим 2,5 см. Проверить данную гипотезу, если известно, что размеры изделий подчинены нормальному закону распределения. Объем выборки 10, уровень статистической значимости 5%\n",
    "2.51, 2.35, 2.74, 2.56, 2.40, 2.36, 2.65, 2.7, 2.67, 2.34"
   ]
  },
  {
   "attachments": {},
   "cell_type": "markdown",
   "metadata": {},
   "source": [
    "    Формируем нулевую гипотезу: средний размер изделий равен 2.5 см.  \n",
    "$H_0$ :  $М = 2,5$  \n",
    "\n",
    "    Формируем альтернативную гипотезу: средний размер изделий не равен 2.5 см.  \n",
    "$H_1$ :  $М \\neq 2,5$\n",
    "\n",
    "    Находим среднее арифметическое размеров изделий в выборке:  \n",
    "$\\overline{x} = \\frac{\\sum\\limits_{i=1}^{n} x_i}{n}$\n",
    "\n",
    "    Находим стандартное отклонение:\n",
    "$s = \\sqrt{\\frac{\\sum\\limits_{i=1}^{n} (x_i - \\overline{x})^2}{n-1}}$\n",
    "\n",
    "    Вычисляем t-статистику:  \n",
    "$t = \\frac{\\overline{x} - 2.5}{\\frac{s}{\\sqrt{n}}}$\n",
    "\n",
    "    Определяем критическую область выборки для уровня статистической значимости 5%:  \n",
    "    Сравниваем t-статистику с t-критическим. Если t-статистика попадает в критическую область, то нулевая гипотеза отвергается.  \n",
    "Делаем вывод:\n",
    "  \n",
    "    Если t-статистика меньше t-критического, то гипотеза не отвергается.  \n",
    "    Если t-статистика больше t-критического, то гипотеза отвергается."
   ]
  },
  {
   "cell_type": "code",
   "execution_count": 35,
   "metadata": {},
   "outputs": [
    {
     "name": "stdout",
     "output_type": "stream",
     "text": [
      ">>> Нулевая гипотеза не отвергается, партия изготавливается со средним арифметическим 2,5 см.\n"
     ]
    },
    {
     "data": {
      "text/plain": [
       "(2.5279999999999996,\n",
       " 0.1572542173961923,\n",
       " 0.5630613661802959,\n",
       " 1.8331129326536333)"
      ]
     },
     "execution_count": 35,
     "metadata": {},
     "output_type": "execute_result"
    }
   ],
   "source": [
    "alpha = 0.05\n",
    "data = [2.51, 2.35, 2.74, 2.56, 2.40, 2.36, 2.65, 2.7, 2.67, 2.34]\n",
    "n = len(data)\n",
    "mean = np.mean(data)\n",
    "std = np.std(data, ddof=1)\n",
    "t_stat = (mean - 2.5) / (std / np.sqrt(10))\n",
    "t_critical = stats.t.ppf(1 - alpha, n-1)\n",
    "if t_stat < t_critical:\n",
    "    print(\">>> Нулевая гипотеза не отвергается, партия изготавливается со средним арифметическим 2,5 см.\")\n",
    "else:\n",
    "    print(\">>> Нулевая гипотеза отвергается, партия изготавливается со средним арифметическим не равным 2,5 см.\")\n",
    "    \n",
    "mean, std, t_stat, t_critical"
   ]
  },
  {
   "cell_type": "code",
   "execution_count": 36,
   "metadata": {},
   "outputs": [
    {
     "data": {
      "image/png": "[encoded data removed]",
      "text/plain": [
       "<Figure size 640x480 with 1 Axes>"
      ]
     },
     "metadata": {},
     "output_type": "display_data"
    }
   ],
   "source": [
    "x = np.linspace(-5, 5, 100)\n",
    "y = stats.t.pdf(x, 9)\n",
    "\n",
    "plt.plot(x, y, label=\"t-distribution\")\n",
    "plt.axvline(t_critical, color=\"red\", label=\"t-critical\")\n",
    "plt.axvline(t_stat, color=\"green\", label=\"t-statistic\")\n",
    "plt.legend()\n",
    "plt.show()"
   ]
  }
 ],
 "metadata": {
  "kernelspec": {
   "display_name": "Python 3",
   "language": "python",
   "name": "python3"
  },
  "language_info": {
   "codemirror_mode": {
    "name": "ipython",
    "version": 3
   },
   "file_extension": ".py",
   "mimetype": "text/x-python",
   "name": "python",
   "nbconvert_exporter": "python",
   "pygments_lexer": "ipython3",
   "version": "3.11.0"
  },
  "orig_nbformat": 4,
  "vscode": {
   "interpreter": {
    "hash": "b8ab3c5a0bf651b11e8082edede9a7857529171f6f26db982e916c9d3ebde9a7"
   }
  }
 },
 "nbformat": 4,
 "nbformat_minor": 2
}
