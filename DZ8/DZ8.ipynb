{
 "cells": [
  {
   "cell_type": "code",
   "execution_count": 83,
   "metadata": {},
   "outputs": [],
   "source": [
    "import numpy as np\n",
    "import pandas as pd\n",
    "from scipy import stats\n",
    "import matplotlib.pyplot as plt"
   ]
  },
  {
   "attachments": {},
   "cell_type": "markdown",
   "metadata": {},
   "source": [
    "#### Задача 1\n",
    "Даны значения величины заработной платы заемщиков банка (zp) и значения их поведенческого кредитного скоринга (ks):  \n",
    "$zp = [35, 45, 190, 200, 40, 70, 54, 150, 120, 110]$  \n",
    "$ks = [401, 574, 874, 919, 459, 739, 653, 902, 746, 832]$  \n",
    "Найдите ковариацию этих двух величин с помощью элементарных действий, а затем с помощью функции cov из numpy  \n",
    "Полученные значения должны быть равны.  \n",
    "Найдите коэффициент корреляции Пирсона с помощью ковариации и среднеквадратичных отклонений двух признаков,  \n",
    "а затем с использованием функций из библиотек numpy и pandas."
   ]
  },
  {
   "cell_type": "code",
   "execution_count": 84,
   "metadata": {},
   "outputs": [],
   "source": [
    "zp = np.array([35, 45, 190, 200, 40, 70, 54, 150, 120, 110])\n",
    "ks = np.array([401, 574, 874, 919, 459, 739, 653, 902, 746, 832])"
   ]
  },
  {
   "cell_type": "code",
   "execution_count": 85,
   "metadata": {},
   "outputs": [
    {
     "data": {
      "image/png": "[encoded data removed]",
      "image/svg+xml": "<?xml version=\"1.0\" encoding=\"utf-8\" standalone=\"no\"?>\n<!DOCTYPE svg PUBLIC \"-//W3C//DTD SVG 1.1//EN\"\n  \"http://www.w3.org/Graphics/SVG/1.1/DTD/svg11.dtd\">\n<svg xmlns:xlink=\"http://www.w3.org/1999/xlink\" width=\"411.285625pt\" height=\"311.038562pt\" viewBox=\"0 0 411.285625 311.038562\" xmlns=\"http://www.w3.org/2000/svg\" version=\"1.1\">\n <metadata>\n  <rdf:RDF xmlns:dc=\"http://purl.org/dc/elements/1.1/\" xmlns:cc=\"http://creativecommons.org/ns#\" xmlns:rdf=\"http://www.w3.org/1999/02/22-rdf-syntax-ns#\">\n   <cc:Work>\n    <dc:type rdf:resource=\"http://purl.org/dc/dcmitype/StillImage\"/>\n    <dc:date>2023-02-10T19:26:28.400610</dc:date>\n    <dc:format>image/svg+xml</dc:format>\n    <dc:creator>\n     <cc:Agent>\n      <dc:title>Matplotlib v3.6.2, https://matplotlib.org/</dc:title>\n     </cc:Agent>\n    </dc:creator>\n   </cc:Work>\n  </rdf:RDF>\n </metadata>\n <defs>\n  <style type=\"text/css\">*{stroke-linejoin: round; stroke-linecap: butt}</style>\n </defs>\n <g id=\"figure_1\">\n  <g id=\"patch_1\">\n   <path d=\"M 0 311.038562 \nL 411.285625 311.038562 \nL 411.285625 0 \nL 0 0 \nz\n\" style=\"fill: #ffffff\"/>\n  </g>\n  <g id=\"axes_1\">\n   <g id=\"patch_2\">\n    <path d=\"M 46.965625 273.312 \nL 404.085625 273.312 \nL 404.085625 7.2 \nL 46.965625 7.2 \nz\n\" style=\"fill: #ffffff\"/>\n   </g>\n   <g id=\"PathCollection_1\">\n    <defs>\n     <path id=\"mde93cad5ae\" d=\"M 0 3 \nC 0.795609 3 1.55874 2.683901 2.12132 2.12132 \nC 2.683901 1.55874 3 0.795609 3 0 \nC 3 -0.795609 2.683901 -1.55874 2.12132 -2.12132 \nC 1.55874 -2.683901 0.795609 -3 0 -3 \nC -0.795609 -3 -1.55874 -2.683901 -2.12132 -2.12132 \nC -2.683901 -1.55874 -3 -0.795609 -3 0 \nC -3 0.795609 -2.683901 1.55874 -2.12132 2.12132 \nC -1.55874 2.683901 -0.795609 3 0 3 \nz\n\" style=\"stroke: #1f77b4\"/>\n    </defs>\n    <g clip-path=\"url(#p746718698f)\">\n     <use xlink:href=\"#mde93cad5ae\" x=\"63.198352\" y=\"261.216\" style=\"fill: #1f77b4; stroke: #1f77b4\"/>\n     <use xlink:href=\"#mde93cad5ae\" x=\"82.874385\" y=\"180.420324\" style=\"fill: #1f77b4; stroke: #1f77b4\"/>\n     <use xlink:href=\"#mde93cad5ae\" x=\"368.176865\" y=\"40.312216\" style=\"fill: #1f77b4; stroke: #1f77b4\"/>\n     <use xlink:href=\"#mde93cad5ae\" x=\"387.852898\" y=\"19.296\" style=\"fill: #1f77b4; stroke: #1f77b4\"/>\n     <use xlink:href=\"#mde93cad5ae\" x=\"73.036369\" y=\"234.128432\" style=\"fill: #1f77b4; stroke: #1f77b4\"/>\n     <use xlink:href=\"#mde93cad5ae\" x=\"132.064468\" y=\"103.360865\" style=\"fill: #1f77b4; stroke: #1f77b4\"/>\n     <use xlink:href=\"#mde93cad5ae\" x=\"100.582815\" y=\"143.525189\" style=\"fill: #1f77b4; stroke: #1f77b4\"/>\n     <use xlink:href=\"#mde93cad5ae\" x=\"289.472732\" y=\"27.235459\" style=\"fill: #1f77b4; stroke: #1f77b4\"/>\n     <use xlink:href=\"#mde93cad5ae\" x=\"230.444633\" y=\"100.091676\" style=\"fill: #1f77b4; stroke: #1f77b4\"/>\n     <use xlink:href=\"#mde93cad5ae\" x=\"210.7686\" y=\"59.927351\" style=\"fill: #1f77b4; stroke: #1f77b4\"/>\n    </g>\n   </g>\n   <g id=\"matplotlib.axis_1\">\n    <g id=\"xtick_1\">\n     <g id=\"line2d_1\">\n      <defs>\n       <path id=\"m2cf03bb275\" d=\"M 0 0 \nL 0 3.5 \n\" style=\"stroke: #000000; stroke-width: 0.8\"/>\n      </defs>\n      <g>\n       <use xlink:href=\"#m2cf03bb275\" x=\"92.712402\" y=\"273.312\" style=\"stroke: #000000; stroke-width: 0.8\"/>\n      </g>\n     </g>\n     <g id=\"text_1\">\n      <!-- 50 -->\n      <g transform=\"translate(86.349902 287.910437) scale(0.1 -0.1)\">\n       <defs>\n        <path id=\"DejaVuSans-35\" d=\"M 691 4666 \nL 3169 4666 \nL 3169 4134 \nL 1269 4134 \nL 1269 2991 \nQ 1406 3038 1543 3061 \nQ 1681 3084 1819 3084 \nQ 2600 3084 3056 2656 \nQ 3513 2228 3513 1497 \nQ 3513 744 3044 326 \nQ 2575 -91 1722 -91 \nQ 1428 -91 1123 -41 \nQ 819 9 494 109 \nL 494 744 \nQ 775 591 1075 516 \nQ 1375 441 1709 441 \nQ 2250 441 2565 725 \nQ 2881 1009 2881 1497 \nQ 2881 1984 2565 2268 \nQ 2250 2553 1709 2553 \nQ 1456 2553 1204 2497 \nQ 953 2441 691 2322 \nL 691 4666 \nz\n\" transform=\"scale(0.015625)\"/>\n        <path id=\"DejaVuSans-30\" d=\"M 2034 4250 \nQ 1547 4250 1301 3770 \nQ 1056 3291 1056 2328 \nQ 1056 1369 1301 889 \nQ 1547 409 2034 409 \nQ 2525 409 2770 889 \nQ 3016 1369 3016 2328 \nQ 3016 3291 2770 3770 \nQ 2525 4250 2034 4250 \nz\nM 2034 4750 \nQ 2819 4750 3233 4129 \nQ 3647 3509 3647 2328 \nQ 3647 1150 3233 529 \nQ 2819 -91 2034 -91 \nQ 1250 -91 836 529 \nQ 422 1150 422 2328 \nQ 422 3509 836 4129 \nQ 1250 4750 2034 4750 \nz\n\" transform=\"scale(0.015625)\"/>\n       </defs>\n       <use xlink:href=\"#DejaVuSans-35\"/>\n       <use xlink:href=\"#DejaVuSans-30\" x=\"63.623047\"/>\n      </g>\n     </g>\n    </g>\n    <g id=\"xtick_2\">\n     <g id=\"line2d_2\">\n      <g>\n       <use xlink:href=\"#m2cf03bb275\" x=\"141.902485\" y=\"273.312\" style=\"stroke: #000000; stroke-width: 0.8\"/>\n      </g>\n     </g>\n     <g id=\"text_2\">\n      <!-- 75 -->\n      <g transform=\"translate(135.539985 287.910437) scale(0.1 -0.1)\">\n       <defs>\n        <path id=\"DejaVuSans-37\" d=\"M 525 4666 \nL 3525 4666 \nL 3525 4397 \nL 1831 0 \nL 1172 0 \nL 2766 4134 \nL 525 4134 \nL 525 4666 \nz\n\" transform=\"scale(0.015625)\"/>\n       </defs>\n       <use xlink:href=\"#DejaVuSans-37\"/>\n       <use xlink:href=\"#DejaVuSans-35\" x=\"63.623047\"/>\n      </g>\n     </g>\n    </g>\n    <g id=\"xtick_3\">\n     <g id=\"line2d_3\">\n      <g>\n       <use xlink:href=\"#m2cf03bb275\" x=\"191.092567\" y=\"273.312\" style=\"stroke: #000000; stroke-width: 0.8\"/>\n      </g>\n     </g>\n     <g id=\"text_3\">\n      <!-- 100 -->\n      <g transform=\"translate(181.548817 287.910437) scale(0.1 -0.1)\">\n       <defs>\n        <path id=\"DejaVuSans-31\" d=\"M 794 531 \nL 1825 531 \nL 1825 4091 \nL 703 3866 \nL 703 4441 \nL 1819 4666 \nL 2450 4666 \nL 2450 531 \nL 3481 531 \nL 3481 0 \nL 794 0 \nL 794 531 \nz\n\" transform=\"scale(0.015625)\"/>\n       </defs>\n       <use xlink:href=\"#DejaVuSans-31\"/>\n       <use xlink:href=\"#DejaVuSans-30\" x=\"63.623047\"/>\n       <use xlink:href=\"#DejaVuSans-30\" x=\"127.246094\"/>\n      </g>\n     </g>\n    </g>\n    <g id=\"xtick_4\">\n     <g id=\"line2d_4\">\n      <g>\n       <use xlink:href=\"#m2cf03bb275\" x=\"240.28265\" y=\"273.312\" style=\"stroke: #000000; stroke-width: 0.8\"/>\n      </g>\n     </g>\n     <g id=\"text_4\">\n      <!-- 125 -->\n      <g transform=\"translate(230.7389 287.910437) scale(0.1 -0.1)\">\n       <defs>\n        <path id=\"DejaVuSans-32\" d=\"M 1228 531 \nL 3431 531 \nL 3431 0 \nL 469 0 \nL 469 531 \nQ 828 903 1448 1529 \nQ 2069 2156 2228 2338 \nQ 2531 2678 2651 2914 \nQ 2772 3150 2772 3378 \nQ 2772 3750 2511 3984 \nQ 2250 4219 1831 4219 \nQ 1534 4219 1204 4116 \nQ 875 4013 500 3803 \nL 500 4441 \nQ 881 4594 1212 4672 \nQ 1544 4750 1819 4750 \nQ 2544 4750 2975 4387 \nQ 3406 4025 3406 3419 \nQ 3406 3131 3298 2873 \nQ 3191 2616 2906 2266 \nQ 2828 2175 2409 1742 \nQ 1991 1309 1228 531 \nz\n\" transform=\"scale(0.015625)\"/>\n       </defs>\n       <use xlink:href=\"#DejaVuSans-31\"/>\n       <use xlink:href=\"#DejaVuSans-32\" x=\"63.623047\"/>\n       <use xlink:href=\"#DejaVuSans-35\" x=\"127.246094\"/>\n      </g>\n     </g>\n    </g>\n    <g id=\"xtick_5\">\n     <g id=\"line2d_5\">\n      <g>\n       <use xlink:href=\"#m2cf03bb275\" x=\"289.472732\" y=\"273.312\" style=\"stroke: #000000; stroke-width: 0.8\"/>\n      </g>\n     </g>\n     <g id=\"text_5\">\n      <!-- 150 -->\n      <g transform=\"translate(279.928982 287.910437) scale(0.1 -0.1)\">\n       <use xlink:href=\"#DejaVuSans-31\"/>\n       <use xlink:href=\"#DejaVuSans-35\" x=\"63.623047\"/>\n       <use xlink:href=\"#DejaVuSans-30\" x=\"127.246094\"/>\n      </g>\n     </g>\n    </g>\n    <g id=\"xtick_6\">\n     <g id=\"line2d_6\">\n      <g>\n       <use xlink:href=\"#m2cf03bb275\" x=\"338.662815\" y=\"273.312\" style=\"stroke: #000000; stroke-width: 0.8\"/>\n      </g>\n     </g>\n     <g id=\"text_6\">\n      <!-- 175 -->\n      <g transform=\"translate(329.119065 287.910437) scale(0.1 -0.1)\">\n       <use xlink:href=\"#DejaVuSans-31\"/>\n       <use xlink:href=\"#DejaVuSans-37\" x=\"63.623047\"/>\n       <use xlink:href=\"#DejaVuSans-35\" x=\"127.246094\"/>\n      </g>\n     </g>\n    </g>\n    <g id=\"xtick_7\">\n     <g id=\"line2d_7\">\n      <g>\n       <use xlink:href=\"#m2cf03bb275\" x=\"387.852898\" y=\"273.312\" style=\"stroke: #000000; stroke-width: 0.8\"/>\n      </g>\n     </g>\n     <g id=\"text_7\">\n      <!-- 200 -->\n      <g transform=\"translate(378.309148 287.910437) scale(0.1 -0.1)\">\n       <use xlink:href=\"#DejaVuSans-32\"/>\n       <use xlink:href=\"#DejaVuSans-30\" x=\"63.623047\"/>\n       <use xlink:href=\"#DejaVuSans-30\" x=\"127.246094\"/>\n      </g>\n     </g>\n    </g>\n    <g id=\"text_8\">\n     <!-- Величина заработной платы \"ZP\" -->\n     <g transform=\"translate(137.2475 301.758875) scale(0.1 -0.1)\">\n      <defs>\n       <path id=\"DejaVuSans-412\" d=\"M 1259 2228 \nL 1259 519 \nL 2272 519 \nQ 2781 519 3026 730 \nQ 3272 941 3272 1375 \nQ 3272 1813 3026 2020 \nQ 2781 2228 2272 2228 \nL 1259 2228 \nz\nM 1259 4147 \nL 1259 2741 \nL 2194 2741 \nQ 2656 2741 2882 2914 \nQ 3109 3088 3109 3444 \nQ 3109 3797 2882 3972 \nQ 2656 4147 2194 4147 \nL 1259 4147 \nz\nM 628 4666 \nL 2241 4666 \nQ 2963 4666 3353 4366 \nQ 3744 4066 3744 3513 \nQ 3744 3084 3544 2831 \nQ 3344 2578 2956 2516 \nQ 3422 2416 3680 2098 \nQ 3938 1781 3938 1306 \nQ 3938 681 3513 340 \nQ 3088 0 2303 0 \nL 628 0 \nL 628 4666 \nz\n\" transform=\"scale(0.015625)\"/>\n       <path id=\"DejaVuSans-435\" d=\"M 3597 1894 \nL 3597 1613 \nL 953 1613 \nQ 991 1019 1311 708 \nQ 1631 397 2203 397 \nQ 2534 397 2845 478 \nQ 3156 559 3463 722 \nL 3463 178 \nQ 3153 47 2828 -22 \nQ 2503 -91 2169 -91 \nQ 1331 -91 842 396 \nQ 353 884 353 1716 \nQ 353 2575 817 3079 \nQ 1281 3584 2069 3584 \nQ 2775 3584 3186 3129 \nQ 3597 2675 3597 1894 \nz\nM 3022 2063 \nQ 3016 2534 2758 2815 \nQ 2500 3097 2075 3097 \nQ 1594 3097 1305 2825 \nQ 1016 2553 972 2059 \nL 3022 2063 \nz\n\" transform=\"scale(0.015625)\"/>\n       <path id=\"DejaVuSans-43b\" d=\"M 238 0 \nL 238 478 \nQ 806 566 981 959 \nQ 1194 1513 1194 2928 \nL 1194 3500 \nL 3559 3500 \nL 3559 0 \nL 2984 0 \nL 2984 3041 \nL 1769 3041 \nL 1769 2694 \nQ 1769 1344 1494 738 \nQ 1200 91 238 0 \nz\n\" transform=\"scale(0.015625)\"/>\n       <path id=\"DejaVuSans-438\" d=\"M 3578 3500 \nL 3578 0 \nL 3006 0 \nL 3006 2809 \nL 1319 0 \nL 581 0 \nL 581 3500 \nL 1153 3500 \nL 1153 697 \nL 2838 3500 \nL 3578 3500 \nz\n\" transform=\"scale(0.015625)\"/>\n       <path id=\"DejaVuSans-447\" d=\"M 2625 0 \nL 2625 1472 \nL 1553 1472 \nQ 1075 1472 756 1769 \nQ 469 2038 469 2613 \nL 469 3500 \nL 1044 3500 \nL 1044 2666 \nQ 1044 2300 1206 2116 \nQ 1372 1931 1697 1931 \nL 2625 1931 \nL 2625 3500 \nL 3200 3500 \nL 3200 0 \nL 2625 0 \nz\n\" transform=\"scale(0.015625)\"/>\n       <path id=\"DejaVuSans-43d\" d=\"M 581 3500 \nL 1159 3500 \nL 1159 2072 \nL 3025 2072 \nL 3025 3500 \nL 3603 3500 \nL 3603 0 \nL 3025 0 \nL 3025 1613 \nL 1159 1613 \nL 1159 0 \nL 581 0 \nL 581 3500 \nz\n\" transform=\"scale(0.015625)\"/>\n       <path id=\"DejaVuSans-430\" d=\"M 2194 1759 \nQ 1497 1759 1228 1600 \nQ 959 1441 959 1056 \nQ 959 750 1161 570 \nQ 1363 391 1709 391 \nQ 2188 391 2477 730 \nQ 2766 1069 2766 1631 \nL 2766 1759 \nL 2194 1759 \nz\nM 3341 1997 \nL 3341 0 \nL 2766 0 \nL 2766 531 \nQ 2569 213 2275 61 \nQ 1981 -91 1556 -91 \nQ 1019 -91 701 211 \nQ 384 513 384 1019 \nQ 384 1609 779 1909 \nQ 1175 2209 1959 2209 \nL 2766 2209 \nL 2766 2266 \nQ 2766 2663 2505 2880 \nQ 2244 3097 1772 3097 \nQ 1472 3097 1187 3025 \nQ 903 2953 641 2809 \nL 641 3341 \nQ 956 3463 1253 3523 \nQ 1550 3584 1831 3584 \nQ 2591 3584 2966 3190 \nQ 3341 2797 3341 1997 \nz\n\" transform=\"scale(0.015625)\"/>\n       <path id=\"DejaVuSans-20\" transform=\"scale(0.015625)\"/>\n       <path id=\"DejaVuSans-437\" d=\"M 2206 1888 \nQ 2594 1813 2809 1584 \nQ 3025 1356 3025 1019 \nQ 3025 478 2622 193 \nQ 2219 -91 1475 -91 \nQ 1225 -91 961 -47 \nQ 697 -3 416 84 \nL 416 619 \nQ 638 503 903 445 \nQ 1169 388 1459 388 \nQ 1931 388 2195 563 \nQ 2459 738 2459 1019 \nQ 2459 1294 2225 1461 \nQ 1991 1628 1563 1628 \nL 1100 1628 \nL 1100 2103 \nL 1584 2103 \nQ 1947 2103 2158 2242 \nQ 2369 2381 2369 2600 \nQ 2369 2800 2151 2944 \nQ 1934 3088 1563 3088 \nQ 1341 3088 1089 3047 \nQ 838 3006 534 2916 \nL 534 3438 \nQ 841 3513 1106 3550 \nQ 1372 3588 1609 3588 \nQ 2222 3588 2576 3342 \nQ 2931 3097 2931 2656 \nQ 2931 2366 2743 2164 \nQ 2556 1963 2206 1888 \nz\n\" transform=\"scale(0.015625)\"/>\n       <path id=\"DejaVuSans-440\" d=\"M 1159 525 \nL 1159 -1331 \nL 581 -1331 \nL 581 3500 \nL 1159 3500 \nL 1159 2969 \nQ 1341 3281 1617 3432 \nQ 1894 3584 2278 3584 \nQ 2916 3584 3314 3078 \nQ 3713 2572 3713 1747 \nQ 3713 922 3314 415 \nQ 2916 -91 2278 -91 \nQ 1894 -91 1617 61 \nQ 1341 213 1159 525 \nz\nM 3116 1747 \nQ 3116 2381 2855 2742 \nQ 2594 3103 2138 3103 \nQ 1681 3103 1420 2742 \nQ 1159 2381 1159 1747 \nQ 1159 1113 1420 752 \nQ 1681 391 2138 391 \nQ 2594 391 2855 752 \nQ 3116 1113 3116 1747 \nz\n\" transform=\"scale(0.015625)\"/>\n       <path id=\"DejaVuSans-431\" d=\"M 1991 3584 \nQ 2741 3584 3169 3096 \nQ 3597 2609 3597 1747 \nQ 3597 888 3169 398 \nQ 2741 -91 1991 -91 \nQ 1238 -91 822 384 \nQ 406 859 384 1747 \nL 366 2463 \nQ 350 2834 350 2963 \nQ 350 3463 531 3831 \nQ 816 4409 1308 4659 \nQ 1800 4909 2625 4916 \nQ 3006 4919 3175 4972 \nL 3334 4516 \nQ 3181 4453 3041 4450 \nL 2259 4397 \nQ 1866 4369 1628 4231 \nQ 1006 3866 947 3388 \nL 925 3213 \nQ 1331 3584 1991 3584 \nz\nM 1991 3097 \nQ 1528 3097 1259 2736 \nQ 991 2375 991 1747 \nQ 991 1119 1258 758 \nQ 1525 397 1991 397 \nQ 2450 397 2719 759 \nQ 2988 1122 2988 1747 \nQ 2988 2369 2719 2733 \nQ 2450 3097 1991 3097 \nz\n\" transform=\"scale(0.015625)\"/>\n       <path id=\"DejaVuSans-43e\" d=\"M 1959 3097 \nQ 1497 3097 1228 2736 \nQ 959 2375 959 1747 \nQ 959 1119 1226 758 \nQ 1494 397 1959 397 \nQ 2419 397 2687 759 \nQ 2956 1122 2956 1747 \nQ 2956 2369 2687 2733 \nQ 2419 3097 1959 3097 \nz\nM 1959 3584 \nQ 2709 3584 3137 3096 \nQ 3566 2609 3566 1747 \nQ 3566 888 3137 398 \nQ 2709 -91 1959 -91 \nQ 1206 -91 779 398 \nQ 353 888 353 1747 \nQ 353 2609 779 3096 \nQ 1206 3584 1959 3584 \nz\n\" transform=\"scale(0.015625)\"/>\n       <path id=\"DejaVuSans-442\" d=\"M 188 3500 \nL 3541 3500 \nL 3541 3041 \nL 2147 3041 \nL 2147 0 \nL 1581 0 \nL 1581 3041 \nL 188 3041 \nL 188 3500 \nz\n\" transform=\"scale(0.015625)\"/>\n       <path id=\"DejaVuSans-439\" d=\"M 3578 3500 \nL 3578 0 \nL 3006 0 \nL 3006 2809 \nL 1319 0 \nL 581 0 \nL 581 3500 \nL 1153 3500 \nL 1153 697 \nL 2838 3500 \nL 3578 3500 \nz\nM 1102 4833 \nL 1471 4833 \nQ 1505 4599 1656 4481 \nQ 1808 4364 2080 4364 \nQ 2349 4364 2499 4480 \nQ 2649 4596 2689 4833 \nL 3058 4833 \nQ 3027 4386 2780 4161 \nQ 2533 3936 2080 3936 \nQ 1627 3936 1380 4161 \nQ 1133 4386 1102 4833 \nz\n\" transform=\"scale(0.015625)\"/>\n       <path id=\"DejaVuSans-43f\" d=\"M 3603 3500 \nL 3603 0 \nL 3025 0 \nL 3025 3041 \nL 1159 3041 \nL 1159 0 \nL 581 0 \nL 581 3500 \nL 3603 3500 \nz\n\" transform=\"scale(0.015625)\"/>\n       <path id=\"DejaVuSans-44b\" d=\"M 3907 3500 \nL 4482 3500 \nL 4482 0 \nL 3907 0 \nL 3907 3500 \nz\nM 4195 3584 \nL 4195 3584 \nz\nM 2781 1038 \nQ 2781 1319 2576 1466 \nQ 2372 1613 1978 1613 \nL 1159 1613 \nL 1159 459 \nL 1978 459 \nQ 2372 459 2576 607 \nQ 2781 756 2781 1038 \nz\nM 581 3500 \nL 1159 3500 \nL 1159 2072 \nL 2003 2072 \nQ 2672 2072 3033 1817 \nQ 3394 1563 3394 1038 \nQ 3394 513 3033 256 \nQ 2672 0 2003 0 \nL 581 0 \nL 581 3500 \nz\n\" transform=\"scale(0.015625)\"/>\n       <path id=\"DejaVuSans-22\" d=\"M 1147 4666 \nL 1147 2931 \nL 616 2931 \nL 616 4666 \nL 1147 4666 \nz\nM 2328 4666 \nL 2328 2931 \nL 1797 2931 \nL 1797 4666 \nL 2328 4666 \nz\n\" transform=\"scale(0.015625)\"/>\n       <path id=\"DejaVuSans-5a\" d=\"M 359 4666 \nL 4025 4666 \nL 4025 4184 \nL 1075 531 \nL 4097 531 \nL 4097 0 \nL 288 0 \nL 288 481 \nL 3238 4134 \nL 359 4134 \nL 359 4666 \nz\n\" transform=\"scale(0.015625)\"/>\n       <path id=\"DejaVuSans-50\" d=\"M 1259 4147 \nL 1259 2394 \nL 2053 2394 \nQ 2494 2394 2734 2622 \nQ 2975 2850 2975 3272 \nQ 2975 3691 2734 3919 \nQ 2494 4147 2053 4147 \nL 1259 4147 \nz\nM 628 4666 \nL 2053 4666 \nQ 2838 4666 3239 4311 \nQ 3641 3956 3641 3272 \nQ 3641 2581 3239 2228 \nQ 2838 1875 2053 1875 \nL 1259 1875 \nL 1259 0 \nL 628 0 \nL 628 4666 \nz\n\" transform=\"scale(0.015625)\"/>\n      </defs>\n      <use xlink:href=\"#DejaVuSans-412\"/>\n      <use xlink:href=\"#DejaVuSans-435\" x=\"68.603516\"/>\n      <use xlink:href=\"#DejaVuSans-43b\" x=\"130.126953\"/>\n      <use xlink:href=\"#DejaVuSans-438\" x=\"194.042969\"/>\n      <use xlink:href=\"#DejaVuSans-447\" x=\"259.033203\"/>\n      <use xlink:href=\"#DejaVuSans-438\" x=\"318.115234\"/>\n      <use xlink:href=\"#DejaVuSans-43d\" x=\"383.105469\"/>\n      <use xlink:href=\"#DejaVuSans-430\" x=\"448.486328\"/>\n      <use xlink:href=\"#DejaVuSans-20\" x=\"509.765625\"/>\n      <use xlink:href=\"#DejaVuSans-437\" x=\"541.552734\"/>\n      <use xlink:href=\"#DejaVuSans-430\" x=\"594.726562\"/>\n      <use xlink:href=\"#DejaVuSans-440\" x=\"656.005859\"/>\n      <use xlink:href=\"#DejaVuSans-430\" x=\"719.482422\"/>\n      <use xlink:href=\"#DejaVuSans-431\" x=\"780.761719\"/>\n      <use xlink:href=\"#DejaVuSans-43e\" x=\"842.431641\"/>\n      <use xlink:href=\"#DejaVuSans-442\" x=\"903.613281\"/>\n      <use xlink:href=\"#DejaVuSans-43d\" x=\"961.865234\"/>\n      <use xlink:href=\"#DejaVuSans-43e\" x=\"1027.246094\"/>\n      <use xlink:href=\"#DejaVuSans-439\" x=\"1088.427734\"/>\n      <use xlink:href=\"#DejaVuSans-20\" x=\"1153.417969\"/>\n      <use xlink:href=\"#DejaVuSans-43f\" x=\"1185.205078\"/>\n      <use xlink:href=\"#DejaVuSans-43b\" x=\"1250.585938\"/>\n      <use xlink:href=\"#DejaVuSans-430\" x=\"1314.501953\"/>\n      <use xlink:href=\"#DejaVuSans-442\" x=\"1375.78125\"/>\n      <use xlink:href=\"#DejaVuSans-44b\" x=\"1434.033203\"/>\n      <use xlink:href=\"#DejaVuSans-20\" x=\"1512.988281\"/>\n      <use xlink:href=\"#DejaVuSans-22\" x=\"1544.775391\"/>\n      <use xlink:href=\"#DejaVuSans-5a\" x=\"1590.771484\"/>\n      <use xlink:href=\"#DejaVuSans-50\" x=\"1659.277344\"/>\n      <use xlink:href=\"#DejaVuSans-22\" x=\"1719.580078\"/>\n     </g>\n    </g>\n   </g>\n   <g id=\"matplotlib.axis_2\">\n    <g id=\"ytick_1\">\n     <g id=\"line2d_8\">\n      <defs>\n       <path id=\"m2e27b5bc2f\" d=\"M 0 0 \nL -3.5 0 \n\" style=\"stroke: #000000; stroke-width: 0.8\"/>\n      </defs>\n      <g>\n       <use xlink:href=\"#m2e27b5bc2f\" x=\"46.965625\" y=\"261.683027\" style=\"stroke: #000000; stroke-width: 0.8\"/>\n      </g>\n     </g>\n     <g id=\"text_9\">\n      <!-- 400 -->\n      <g transform=\"translate(20.878125 265.482246) scale(0.1 -0.1)\">\n       <defs>\n        <path id=\"DejaVuSans-34\" d=\"M 2419 4116 \nL 825 1625 \nL 2419 1625 \nL 2419 4116 \nz\nM 2253 4666 \nL 3047 4666 \nL 3047 1625 \nL 3713 1625 \nL 3713 1100 \nL 3047 1100 \nL 3047 0 \nL 2419 0 \nL 2419 1100 \nL 313 1100 \nL 313 1709 \nL 2253 4666 \nz\n\" transform=\"scale(0.015625)\"/>\n       </defs>\n       <use xlink:href=\"#DejaVuSans-34\"/>\n       <use xlink:href=\"#DejaVuSans-30\" x=\"63.623047\"/>\n       <use xlink:href=\"#DejaVuSans-30\" x=\"127.246094\"/>\n      </g>\n     </g>\n    </g>\n    <g id=\"ytick_2\">\n     <g id=\"line2d_9\">\n      <g>\n       <use xlink:href=\"#m2e27b5bc2f\" x=\"46.965625\" y=\"214.980324\" style=\"stroke: #000000; stroke-width: 0.8\"/>\n      </g>\n     </g>\n     <g id=\"text_10\">\n      <!-- 500 -->\n      <g transform=\"translate(20.878125 218.779543) scale(0.1 -0.1)\">\n       <use xlink:href=\"#DejaVuSans-35\"/>\n       <use xlink:href=\"#DejaVuSans-30\" x=\"63.623047\"/>\n       <use xlink:href=\"#DejaVuSans-30\" x=\"127.246094\"/>\n      </g>\n     </g>\n    </g>\n    <g id=\"ytick_3\">\n     <g id=\"line2d_10\">\n      <g>\n       <use xlink:href=\"#m2e27b5bc2f\" x=\"46.965625\" y=\"168.277622\" style=\"stroke: #000000; stroke-width: 0.8\"/>\n      </g>\n     </g>\n     <g id=\"text_11\">\n      <!-- 600 -->\n      <g transform=\"translate(20.878125 172.07684) scale(0.1 -0.1)\">\n       <defs>\n        <path id=\"DejaVuSans-36\" d=\"M 2113 2584 \nQ 1688 2584 1439 2293 \nQ 1191 2003 1191 1497 \nQ 1191 994 1439 701 \nQ 1688 409 2113 409 \nQ 2538 409 2786 701 \nQ 3034 994 3034 1497 \nQ 3034 2003 2786 2293 \nQ 2538 2584 2113 2584 \nz\nM 3366 4563 \nL 3366 3988 \nQ 3128 4100 2886 4159 \nQ 2644 4219 2406 4219 \nQ 1781 4219 1451 3797 \nQ 1122 3375 1075 2522 \nQ 1259 2794 1537 2939 \nQ 1816 3084 2150 3084 \nQ 2853 3084 3261 2657 \nQ 3669 2231 3669 1497 \nQ 3669 778 3244 343 \nQ 2819 -91 2113 -91 \nQ 1303 -91 875 529 \nQ 447 1150 447 2328 \nQ 447 3434 972 4092 \nQ 1497 4750 2381 4750 \nQ 2619 4750 2861 4703 \nQ 3103 4656 3366 4563 \nz\n\" transform=\"scale(0.015625)\"/>\n       </defs>\n       <use xlink:href=\"#DejaVuSans-36\"/>\n       <use xlink:href=\"#DejaVuSans-30\" x=\"63.623047\"/>\n       <use xlink:href=\"#DejaVuSans-30\" x=\"127.246094\"/>\n      </g>\n     </g>\n    </g>\n    <g id=\"ytick_4\">\n     <g id=\"line2d_11\">\n      <g>\n       <use xlink:href=\"#m2e27b5bc2f\" x=\"46.965625\" y=\"121.574919\" style=\"stroke: #000000; stroke-width: 0.8\"/>\n      </g>\n     </g>\n     <g id=\"text_12\">\n      <!-- 700 -->\n      <g transform=\"translate(20.878125 125.374138) scale(0.1 -0.1)\">\n       <use xlink:href=\"#DejaVuSans-37\"/>\n       <use xlink:href=\"#DejaVuSans-30\" x=\"63.623047\"/>\n       <use xlink:href=\"#DejaVuSans-30\" x=\"127.246094\"/>\n      </g>\n     </g>\n    </g>\n    <g id=\"ytick_5\">\n     <g id=\"line2d_12\">\n      <g>\n       <use xlink:href=\"#m2e27b5bc2f\" x=\"46.965625\" y=\"74.872216\" style=\"stroke: #000000; stroke-width: 0.8\"/>\n      </g>\n     </g>\n     <g id=\"text_13\">\n      <!-- 800 -->\n      <g transform=\"translate(20.878125 78.671435) scale(0.1 -0.1)\">\n       <defs>\n        <path id=\"DejaVuSans-38\" d=\"M 2034 2216 \nQ 1584 2216 1326 1975 \nQ 1069 1734 1069 1313 \nQ 1069 891 1326 650 \nQ 1584 409 2034 409 \nQ 2484 409 2743 651 \nQ 3003 894 3003 1313 \nQ 3003 1734 2745 1975 \nQ 2488 2216 2034 2216 \nz\nM 1403 2484 \nQ 997 2584 770 2862 \nQ 544 3141 544 3541 \nQ 544 4100 942 4425 \nQ 1341 4750 2034 4750 \nQ 2731 4750 3128 4425 \nQ 3525 4100 3525 3541 \nQ 3525 3141 3298 2862 \nQ 3072 2584 2669 2484 \nQ 3125 2378 3379 2068 \nQ 3634 1759 3634 1313 \nQ 3634 634 3220 271 \nQ 2806 -91 2034 -91 \nQ 1263 -91 848 271 \nQ 434 634 434 1313 \nQ 434 1759 690 2068 \nQ 947 2378 1403 2484 \nz\nM 1172 3481 \nQ 1172 3119 1398 2916 \nQ 1625 2713 2034 2713 \nQ 2441 2713 2670 2916 \nQ 2900 3119 2900 3481 \nQ 2900 3844 2670 4047 \nQ 2441 4250 2034 4250 \nQ 1625 4250 1398 4047 \nQ 1172 3844 1172 3481 \nz\n\" transform=\"scale(0.015625)\"/>\n       </defs>\n       <use xlink:href=\"#DejaVuSans-38\"/>\n       <use xlink:href=\"#DejaVuSans-30\" x=\"63.623047\"/>\n       <use xlink:href=\"#DejaVuSans-30\" x=\"127.246094\"/>\n      </g>\n     </g>\n    </g>\n    <g id=\"ytick_6\">\n     <g id=\"line2d_13\">\n      <g>\n       <use xlink:href=\"#m2e27b5bc2f\" x=\"46.965625\" y=\"28.169514\" style=\"stroke: #000000; stroke-width: 0.8\"/>\n      </g>\n     </g>\n     <g id=\"text_14\">\n      <!-- 900 -->\n      <g transform=\"translate(20.878125 31.968732) scale(0.1 -0.1)\">\n       <defs>\n        <path id=\"DejaVuSans-39\" d=\"M 703 97 \nL 703 672 \nQ 941 559 1184 500 \nQ 1428 441 1663 441 \nQ 2288 441 2617 861 \nQ 2947 1281 2994 2138 \nQ 2813 1869 2534 1725 \nQ 2256 1581 1919 1581 \nQ 1219 1581 811 2004 \nQ 403 2428 403 3163 \nQ 403 3881 828 4315 \nQ 1253 4750 1959 4750 \nQ 2769 4750 3195 4129 \nQ 3622 3509 3622 2328 \nQ 3622 1225 3098 567 \nQ 2575 -91 1691 -91 \nQ 1453 -91 1209 -44 \nQ 966 3 703 97 \nz\nM 1959 2075 \nQ 2384 2075 2632 2365 \nQ 2881 2656 2881 3163 \nQ 2881 3666 2632 3958 \nQ 2384 4250 1959 4250 \nQ 1534 4250 1286 3958 \nQ 1038 3666 1038 3163 \nQ 1038 2656 1286 2365 \nQ 1534 2075 1959 2075 \nz\n\" transform=\"scale(0.015625)\"/>\n       </defs>\n       <use xlink:href=\"#DejaVuSans-39\"/>\n       <use xlink:href=\"#DejaVuSans-30\" x=\"63.623047\"/>\n       <use xlink:href=\"#DejaVuSans-30\" x=\"127.246094\"/>\n      </g>\n     </g>\n    </g>\n    <g id=\"text_15\">\n     <!-- Поведенческий кредитный скоринг \"KS\" -->\n     <g transform=\"translate(14.798438 247.523969) rotate(-90) scale(0.1 -0.1)\">\n      <defs>\n       <path id=\"DejaVuSans-41f\" d=\"M 4184 4666 \nL 4184 0 \nL 3553 0 \nL 3553 4134 \nL 1259 4134 \nL 1259 0 \nL 628 0 \nL 628 4666 \nL 4184 4666 \nz\n\" transform=\"scale(0.015625)\"/>\n       <path id=\"DejaVuSans-432\" d=\"M 1156 1613 \nL 1156 459 \nL 1975 459 \nQ 2369 459 2575 607 \nQ 2781 756 2781 1038 \nQ 2781 1319 2575 1466 \nQ 2369 1613 1975 1613 \nL 1156 1613 \nz\nM 1156 3041 \nL 1156 2072 \nL 1913 2072 \nQ 2238 2072 2444 2201 \nQ 2650 2331 2650 2563 \nQ 2650 2794 2444 2917 \nQ 2238 3041 1913 3041 \nL 1156 3041 \nz\nM 581 3500 \nL 1950 3500 \nQ 2566 3500 2897 3275 \nQ 3228 3050 3228 2634 \nQ 3228 2313 3059 2123 \nQ 2891 1934 2559 1888 \nQ 2956 1813 3175 1575 \nQ 3394 1338 3394 981 \nQ 3394 513 3033 256 \nQ 2672 0 2003 0 \nL 581 0 \nL 581 3500 \nz\n\" transform=\"scale(0.015625)\"/>\n       <path id=\"DejaVuSans-434\" d=\"M 1384 459 \nL 3053 459 \nL 3053 3041 \nL 1844 3041 \nL 1844 2603 \nQ 1844 1316 1475 628 \nL 1384 459 \nz\nM 550 459 \nQ 834 584 959 850 \nQ 1266 1509 1266 2838 \nL 1266 3500 \nL 3631 3500 \nL 3631 459 \nL 4091 459 \nL 4091 -884 \nL 3631 -884 \nL 3631 0 \nL 794 0 \nL 794 -884 \nL 334 -884 \nL 334 459 \nL 550 459 \nz\n\" transform=\"scale(0.015625)\"/>\n       <path id=\"DejaVuSans-441\" d=\"M 3122 3366 \nL 3122 2828 \nQ 2878 2963 2633 3030 \nQ 2388 3097 2138 3097 \nQ 1578 3097 1268 2742 \nQ 959 2388 959 1747 \nQ 959 1106 1268 751 \nQ 1578 397 2138 397 \nQ 2388 397 2633 464 \nQ 2878 531 3122 666 \nL 3122 134 \nQ 2881 22 2623 -34 \nQ 2366 -91 2075 -91 \nQ 1284 -91 818 406 \nQ 353 903 353 1747 \nQ 353 2603 823 3093 \nQ 1294 3584 2113 3584 \nQ 2378 3584 2631 3529 \nQ 2884 3475 3122 3366 \nz\n\" transform=\"scale(0.015625)\"/>\n       <path id=\"DejaVuSans-43a\" d=\"M 581 3500 \nL 1153 3500 \nL 1153 1856 \nL 2775 3500 \nL 3481 3500 \nL 2144 2147 \nL 3653 0 \nL 3009 0 \nL 1769 1766 \nL 1153 1141 \nL 1153 0 \nL 581 0 \nL 581 3500 \nz\n\" transform=\"scale(0.015625)\"/>\n       <path id=\"DejaVuSans-433\" d=\"M 581 0 \nL 581 3500 \nL 3050 3500 \nL 3050 3041 \nL 1159 3041 \nL 1159 0 \nL 581 0 \nz\n\" transform=\"scale(0.015625)\"/>\n       <path id=\"DejaVuSans-4b\" d=\"M 628 4666 \nL 1259 4666 \nL 1259 2694 \nL 3353 4666 \nL 4166 4666 \nL 1850 2491 \nL 4331 0 \nL 3500 0 \nL 1259 2247 \nL 1259 0 \nL 628 0 \nL 628 4666 \nz\n\" transform=\"scale(0.015625)\"/>\n       <path id=\"DejaVuSans-53\" d=\"M 3425 4513 \nL 3425 3897 \nQ 3066 4069 2747 4153 \nQ 2428 4238 2131 4238 \nQ 1616 4238 1336 4038 \nQ 1056 3838 1056 3469 \nQ 1056 3159 1242 3001 \nQ 1428 2844 1947 2747 \nL 2328 2669 \nQ 3034 2534 3370 2195 \nQ 3706 1856 3706 1288 \nQ 3706 609 3251 259 \nQ 2797 -91 1919 -91 \nQ 1588 -91 1214 -16 \nQ 841 59 441 206 \nL 441 856 \nQ 825 641 1194 531 \nQ 1563 422 1919 422 \nQ 2459 422 2753 634 \nQ 3047 847 3047 1241 \nQ 3047 1584 2836 1778 \nQ 2625 1972 2144 2069 \nL 1759 2144 \nQ 1053 2284 737 2584 \nQ 422 2884 422 3419 \nQ 422 4038 858 4394 \nQ 1294 4750 2059 4750 \nQ 2388 4750 2728 4690 \nQ 3069 4631 3425 4513 \nz\n\" transform=\"scale(0.015625)\"/>\n      </defs>\n      <use xlink:href=\"#DejaVuSans-41f\"/>\n      <use xlink:href=\"#DejaVuSans-43e\" x=\"75.195312\"/>\n      <use xlink:href=\"#DejaVuSans-432\" x=\"136.376953\"/>\n      <use xlink:href=\"#DejaVuSans-435\" x=\"195.3125\"/>\n      <use xlink:href=\"#DejaVuSans-434\" x=\"256.835938\"/>\n      <use xlink:href=\"#DejaVuSans-435\" x=\"325.976562\"/>\n      <use xlink:href=\"#DejaVuSans-43d\" x=\"387.5\"/>\n      <use xlink:href=\"#DejaVuSans-447\" x=\"452.880859\"/>\n      <use xlink:href=\"#DejaVuSans-435\" x=\"511.962891\"/>\n      <use xlink:href=\"#DejaVuSans-441\" x=\"573.486328\"/>\n      <use xlink:href=\"#DejaVuSans-43a\" x=\"628.466797\"/>\n      <use xlink:href=\"#DejaVuSans-438\" x=\"688.867188\"/>\n      <use xlink:href=\"#DejaVuSans-439\" x=\"753.857422\"/>\n      <use xlink:href=\"#DejaVuSans-20\" x=\"818.847656\"/>\n      <use xlink:href=\"#DejaVuSans-43a\" x=\"850.634766\"/>\n      <use xlink:href=\"#DejaVuSans-440\" x=\"911.035156\"/>\n      <use xlink:href=\"#DejaVuSans-435\" x=\"974.511719\"/>\n      <use xlink:href=\"#DejaVuSans-434\" x=\"1036.035156\"/>\n      <use xlink:href=\"#DejaVuSans-438\" x=\"1105.175781\"/>\n      <use xlink:href=\"#DejaVuSans-442\" x=\"1170.166016\"/>\n      <use xlink:href=\"#DejaVuSans-43d\" x=\"1228.417969\"/>\n      <use xlink:href=\"#DejaVuSans-44b\" x=\"1293.798828\"/>\n      <use xlink:href=\"#DejaVuSans-439\" x=\"1372.753906\"/>\n      <use xlink:href=\"#DejaVuSans-20\" x=\"1437.744141\"/>\n      <use xlink:href=\"#DejaVuSans-441\" x=\"1469.53125\"/>\n      <use xlink:href=\"#DejaVuSans-43a\" x=\"1524.511719\"/>\n      <use xlink:href=\"#DejaVuSans-43e\" x=\"1584.912109\"/>\n      <use xlink:href=\"#DejaVuSans-440\" x=\"1646.09375\"/>\n      <use xlink:href=\"#DejaVuSans-438\" x=\"1709.570312\"/>\n      <use xlink:href=\"#DejaVuSans-43d\" x=\"1774.560547\"/>\n      <use xlink:href=\"#DejaVuSans-433\" x=\"1839.941406\"/>\n      <use xlink:href=\"#DejaVuSans-20\" x=\"1892.480469\"/>\n      <use xlink:href=\"#DejaVuSans-22\" x=\"1924.267578\"/>\n      <use xlink:href=\"#DejaVuSans-4b\" x=\"1970.263672\"/>\n      <use xlink:href=\"#DejaVuSans-53\" x=\"2035.839844\"/>\n      <use xlink:href=\"#DejaVuSans-22\" x=\"2099.316406\"/>\n     </g>\n    </g>\n   </g>\n   <g id=\"patch_3\">\n    <path d=\"M 46.965625 273.312 \nL 46.965625 7.2 \n\" style=\"fill: none; stroke: #000000; stroke-width: 0.8; stroke-linejoin: miter; stroke-linecap: square\"/>\n   </g>\n   <g id=\"patch_4\">\n    <path d=\"M 404.085625 273.312 \nL 404.085625 7.2 \n\" style=\"fill: none; stroke: #000000; stroke-width: 0.8; stroke-linejoin: miter; stroke-linecap: square\"/>\n   </g>\n   <g id=\"patch_5\">\n    <path d=\"M 46.965625 273.312 \nL 404.085625 273.312 \n\" style=\"fill: none; stroke: #000000; stroke-width: 0.8; stroke-linejoin: miter; stroke-linecap: square\"/>\n   </g>\n   <g id=\"patch_6\">\n    <path d=\"M 46.965625 7.2 \nL 404.085625 7.2 \n\" style=\"fill: none; stroke: #000000; stroke-width: 0.8; stroke-linejoin: miter; stroke-linecap: square\"/>\n   </g>\n  </g>\n </g>\n <defs>\n  <clipPath id=\"p746718698f\">\n   <rect x=\"46.965625\" y=\"7.2\" width=\"357.12\" height=\"266.112\"/>\n  </clipPath>\n </defs>\n</svg>\n",
      "text/plain": [
       "<Figure size 640x480 with 1 Axes>"
      ]
     },
     "metadata": {},
     "output_type": "display_data"
    }
   ],
   "source": [
    "plt.scatter(zp,ks)\n",
    "plt.xlabel('Величина заработной платы \"ZP\"')\n",
    "plt.ylabel('Поведенческий кредитный скоринг \"KS\"', rotation=90)\n",
    "plt.show()"
   ]
  },
  {
   "attachments": {},
   "cell_type": "markdown",
   "metadata": {},
   "source": [
    "Из графика видно, что зависимость линейная. Ожидаем, что между этими данными существует положительная корреляция.  \n",
    "\n",
    "Вычислим ковариацию двух величин с помощью элементарных действий:  \n",
    "$Сov(xy) = M(XY) - M(X)*M(Y)$\n"
   ]
  },
  {
   "cell_type": "code",
   "execution_count": 86,
   "metadata": {},
   "outputs": [
    {
     "data": {
      "text/plain": [
       "9157.839999999997"
      ]
     },
     "execution_count": 86,
     "metadata": {},
     "output_type": "execute_result"
    }
   ],
   "source": [
    "cov_zp_ks = np.mean(zp*ks) - np.mean(zp)*np.mean(ks)\n",
    "cov_zp_ks    "
   ]
  },
  {
   "attachments": {},
   "cell_type": "markdown",
   "metadata": {},
   "source": [
    "Вычислим ковариацию двух величин через функцию $cov$"
   ]
  },
  {
   "cell_type": "code",
   "execution_count": 87,
   "metadata": {},
   "outputs": [
    {
     "data": {
      "text/plain": [
       "9157.84"
      ]
     },
     "execution_count": 87,
     "metadata": {},
     "output_type": "execute_result"
    }
   ],
   "source": [
    "cov_zp_ks = np.cov(zp, ks, ddof=0)[0, 1]\n",
    "cov_zp_ks"
   ]
  },
  {
   "attachments": {},
   "cell_type": "markdown",
   "metadata": {},
   "source": [
    "Вычислим коэффициент корреляции Пирсона с помощью ковариации и среднеквадратичных отклонений двух признаков:\n",
    "\n",
    "$corr(zp, ks) = \\frac{Cov(zp, ks)}{\\sqrt{Var(zp)}\\sqrt{Var(ks)}}$  "
   ]
  },
  {
   "cell_type": "code",
   "execution_count": 88,
   "metadata": {},
   "outputs": [
    {
     "data": {
      "text/plain": [
       "0.8874900920739162"
      ]
     },
     "execution_count": 88,
     "metadata": {},
     "output_type": "execute_result"
    }
   ],
   "source": [
    "corr = cov_zp_ks / (np.std(zp) * np.std(ks))\n",
    "corr"
   ]
  },
  {
   "attachments": {},
   "cell_type": "markdown",
   "metadata": {},
   "source": [
    "$r = \\frac{\\operatorname{cov}(zp, ks)}{\\sigma_{zp} \\sigma_{ks}}$  \n"
   ]
  },
  {
   "cell_type": "code",
   "execution_count": 89,
   "metadata": {},
   "outputs": [
    {
     "data": {
      "text/plain": [
       "0.8874900920739162"
      ]
     },
     "execution_count": 89,
     "metadata": {},
     "output_type": "execute_result"
    }
   ],
   "source": [
    "corr_coef = cov_zp_ks / (np.std(zp, ddof=0) * np.std(ks, ddof=0))\n",
    "corr_coef"
   ]
  },
  {
   "attachments": {},
   "cell_type": "markdown",
   "metadata": {},
   "source": [
    "$Numpy$"
   ]
  },
  {
   "cell_type": "code",
   "execution_count": 90,
   "metadata": {},
   "outputs": [
    {
     "data": {
      "text/plain": [
       "0.8874900920739159"
      ]
     },
     "execution_count": 90,
     "metadata": {},
     "output_type": "execute_result"
    }
   ],
   "source": [
    "corr_numpy = np.corrcoef(zp, ks)[0][1]\n",
    "corr_numpy"
   ]
  },
  {
   "attachments": {},
   "cell_type": "markdown",
   "metadata": {},
   "source": [
    "$Pandas$"
   ]
  },
  {
   "cell_type": "code",
   "execution_count": 91,
   "metadata": {},
   "outputs": [
    {
     "data": {
      "text/plain": [
       "0.8874900920739159"
      ]
     },
     "execution_count": 91,
     "metadata": {},
     "output_type": "execute_result"
    }
   ],
   "source": [
    "corr_pandas = pd.Series(zp).corr(pd.Series(ks), method='pearson')\n",
    "corr_pandas"
   ]
  },
  {
   "attachments": {},
   "cell_type": "markdown",
   "metadata": {},
   "source": [
    "#### Задача 2\n",
    "Измерены значения IQ выборки студентов, обучающихся в местных технических вузах:  \n",
    "131, 125, 115, 122, 131, 115, 107, 99, 125, 111.  \n",
    "Известно, что в генеральной совокупности IQ распределен нормально.  \n",
    "Найдите доверительный интервал для математического ожидания с надежностью 0.95."
   ]
  },
  {
   "cell_type": "code",
   "execution_count": 92,
   "metadata": {},
   "outputs": [],
   "source": [
    "iq = np.array([131, 125, 115, 122, 131, 115, 107, 99, 125, 111])\n",
    "alpha = 0.05"
   ]
  },
  {
   "attachments": {},
   "cell_type": "markdown",
   "metadata": {},
   "source": [
    "Для расчета доверительного интервала при неизвесной СКО будем использовать $t$-критерий и формулу для среднего арифмитического:    \n",
    "$\\overline{X}\\underline{+}t\\frac{\\alpha}{2}*\\frac{\\sigma}{\\sqrt{n}}$ "
   ]
  },
  {
   "cell_type": "code",
   "execution_count": 93,
   "metadata": {},
   "outputs": [
    {
     "name": "stdout",
     "output_type": "stream",
     "text": [
      ">>> Размер выборки: n = 10\n",
      ">>> Среднее квадратическое отклонение по выборке(несмещенное): 10.55\n",
      ">>> Среднее выборочное: 118.10\n"
     ]
    }
   ],
   "source": [
    "n = iq.size\n",
    "std = iq.std(ddof=1)\n",
    "mean = iq.mean()\n",
    "print(f'>>> Размер выборки: n = {n}\\n'f'>>> Среднее квадратическое отклонение по выборке(несмещенное): {std:.2f}\\n'f'>>> Среднее выборочное: {mean:.2f}')\n"
   ]
  },
  {
   "attachments": {},
   "cell_type": "markdown",
   "metadata": {},
   "source": [
    "Cчитаем значения $t$ и отклонение"
   ]
  },
  {
   "cell_type": "code",
   "execution_count": 94,
   "metadata": {},
   "outputs": [
    {
     "data": {
      "text/plain": [
       "(7.543916348412745, 2.2621571627409915)"
      ]
     },
     "execution_count": 94,
     "metadata": {},
     "output_type": "execute_result"
    }
   ],
   "source": [
    "t = stats.t.ppf(1 - alpha / 2, n - 1)\n",
    "d = t * std / (n) ** 0.5\n",
    "d,t"
   ]
  },
  {
   "attachments": {},
   "cell_type": "markdown",
   "metadata": {},
   "source": [
    "Считаем доверительный интервал"
   ]
  },
  {
   "cell_type": "code",
   "execution_count": 95,
   "metadata": {},
   "outputs": [
    {
     "name": "stdout",
     "output_type": "stream",
     "text": [
      ">>> Доверительный интервал для математического ожидания с надежностью 0.95 составляет: 110.56; 125.64\n"
     ]
    }
   ],
   "source": [
    "min = mean - d\n",
    "max = mean + d\n",
    "print(f'>>> Доверительный интервал для математического ожидания с надежностью 0.95 составляет:{min: .2f};{max: .2f}')"
   ]
  },
  {
   "attachments": {},
   "cell_type": "markdown",
   "metadata": {},
   "source": [
    "#### Задача 3\n",
    "Известно, что рост футболистов в сборной распределен нормально с дисперсией генеральной совокупности, равной 25 кв.см.  \n",
    "Объем выборки равен 27, среднее выборочное составляет 174.2.  \n",
    "Найдите доверительный интервал для математического ожидания с надежностью 0.95."
   ]
  },
  {
   "attachments": {},
   "cell_type": "markdown",
   "metadata": {},
   "source": [
    "Для расчета доверительного интервала при извесной СКО будем использовать $z$-критерий и формулу для среднего арифмитического:    \n",
    "$\\overline{X}\\underline{+}z\\frac{\\alpha}{2}*\\frac{\\sigma}{\\sqrt{n}}$ "
   ]
  },
  {
   "cell_type": "code",
   "execution_count": 96,
   "metadata": {},
   "outputs": [
    {
     "name": "stdout",
     "output_type": "stream",
     "text": [
      ">>> Доверительный интервал для математического ожидания с надежностью 0.95 составляет: 172.22; 176.18\n"
     ]
    }
   ],
   "source": [
    "var = 25\n",
    "n = 27\n",
    "mean = 174.2\n",
    "std = (var)**0.5\n",
    "alpha = 0.05\n",
    "z=stats.norm.ppf(1-alpha/2,n-1)\n",
    "d=z*std/(n)**0.5\n",
    "min = mean - d\n",
    "max = mean + d\n",
    "print(f'>>> Доверительный интервал для математического ожидания с надежностью 0.95 составляет:{min: .2f};{max: .2f}')\n"
   ]
  }
 ],
 "metadata": {
  "kernelspec": {
   "display_name": "Python 3",
   "language": "python",
   "name": "python3"
  },
  "language_info": {
   "codemirror_mode": {
    "name": "ipython",
    "version": 3
   },
   "file_extension": ".py",
   "mimetype": "text/x-python",
   "name": "python",
   "nbconvert_exporter": "python",
   "pygments_lexer": "ipython3",
   "version": "3.11.0"
  },
  "orig_nbformat": 4,
  "vscode": {
   "interpreter": {
    "hash": "f99b0d7b2032c78286f87aca85b3d6980edc424abfeeb901c0d39dce752615a7"
   }
  }
 },
 "nbformat": 4,
 "nbformat_minor": 2
}
