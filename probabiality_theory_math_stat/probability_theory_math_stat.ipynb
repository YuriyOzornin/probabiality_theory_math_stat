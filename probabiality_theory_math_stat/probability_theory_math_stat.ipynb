{
 "cells": [
  {
   "attachments": {},
   "cell_type": "markdown",
   "metadata": {},
   "source": [
    "# Тема 1\n",
    "## Расчет вероятности случайных событий"
   ]
  },
  {
   "cell_type": "code",
   "execution_count": 1,
   "metadata": {},
   "outputs": [
    {
     "data": {
      "text/plain": [
       "0"
      ]
     },
     "execution_count": 1,
     "metadata": {},
     "output_type": "execute_result"
    }
   ],
   "source": [
    "from os import system\n",
    "from math import factorial\n",
    "system(\"cls\")"
   ]
  },
  {
   "attachments": {},
   "cell_type": "markdown",
   "metadata": {},
   "source": [
    "# Задача 1\n",
    "Из колоды в 52 карты извлекаются случайным образом 4 карты.\n",
    "    a. Найти вероятность того, что все карты – крести.\n",
    "    б. Найти вероятность, что среди 4-х карт окажется хотя бы один туз."
   ]
  },
  {
   "attachments": {},
   "cell_type": "markdown",
   "metadata": {},
   "source": [
    "Формула подсчета количества сочетаний по k элементов из множества n\n",
    "#    C(nk) = n!/(k!*(n - k)!)"
   ]
  },
  {
   "cell_type": "code",
   "execution_count": 3,
   "metadata": {},
   "outputs": [
    {
     "name": "stdout",
     "output_type": "stream",
     "text": [
      ">>> <function f_combination at 0x000001F27CB535E0>\n"
     ]
    }
   ],
   "source": [
    "def f_combination(n, k):\n",
    "    return (factorial(n) / (factorial(k) * factorial(n-k)))"
   ]
  },
  {
   "attachments": {},
   "cell_type": "markdown",
   "metadata": {},
   "source": [
    "P(A)=m/n - общее количество исходов определяется кол-ом сочетаний из 52 возможных 4 карты , а количество благоприятных исходов - из 13 возможных 4 крести"
   ]
  },
  {
   "cell_type": "code",
   "execution_count": 4,
   "metadata": {},
   "outputs": [
    {
     "name": "stdout",
     "output_type": "stream",
     "text": [
      "a) Найти вероятность того, что все карты – крести:\n",
      "\n",
      "Kоличество благоприятных исходов - 4 карты крести из 13 возможных = 715\n",
      "Общее количество исходов 4 карты из 52 = 270725\n",
      "\n",
      "<<< Вероятность того, что все карты – крести = 0.264% >>>\n"
     ]
    }
   ],
   "source": [
    "m = f_combination(13, 4)  # m = из \"13\" \"4\"\n",
    "n = f_combination(52, 4)  # n = из \"52\" \"4\"\n",
    "P = m / n\n",
    "print('a) Найти вероятность того, что все карты – крести:')\n",
    "print(\n",
    "    f'\\nKоличество благоприятных исходов - 4 карты крести из 13 возможных = {int(m)}')\n",
    "print(f'Общее количество исходов 4 карты из 52 = {int(n)}')\n",
    "print(\n",
    "    f'\\n<<< Вероятность того, что все карты – крести = {round(P*100,3)}% >>>')"
   ]
  },
  {
   "attachments": {},
   "cell_type": "markdown",
   "metadata": {},
   "source": [
    "Вероятность, что из 4х карт достанем хотябы одного туза, а может туза и не оказаться: \n",
    "    Р(А)+Р(-А)=1 сумма вероятностей противоположных событий равна 1.\n",
    "    Вероятность, что тузов не окажется совсем - это сочетание из 48 карт (без тузов) 4 карты.\n",
    "    P(A)=m/n - общее количество исходов определяется кол-ом сочетаний из 52 возможных 4 карты."
   ]
  },
  {
   "cell_type": "code",
   "execution_count": 5,
   "metadata": {},
   "outputs": [
    {
     "name": "stdout",
     "output_type": "stream",
     "text": [
      "\n",
      "======================================================================\n",
      "\n",
      "б) Найти вероятность, что среди 4-х карт окажется хотя бы один туз:\n",
      "\n",
      "Kоличество способов извлечь 4 карты из колоды без тузов = 194580\n",
      "Общее количество исходов 4 карты из 52 = 270725\n",
      "\n",
      "<<< Вероятность извлеч одного или больше тузов = 28.126% >>>\n"
     ]
    }
   ],
   "source": [
    "m = f_combination(48, 4)  # m = из \"48\" \"4\"\n",
    "n = f_combination(52, 4)  # n = из \"52\" \"4\"\n",
    "\n",
    "P = 1-m / n  # Р(А)=1-Р(-А)\n",
    "print(\"\\n\" + \"=\" * 70)\n",
    "print('\\nб) Найти вероятность, что среди 4-х карт окажется хотя бы один туз:')\n",
    "print(\n",
    "    f'\\nKоличество способов извлечь 4 карты из колоды без тузов = {int(m)}')\n",
    "print(f'Общее количество исходов 4 карты из 52 = {int(n)}')\n",
    "print(\n",
    "    f'\\n<<< Вероятность извлеч одного или больше тузов = {round(P*100,3)}% >>>')"
   ]
  },
  {
   "attachments": {},
   "cell_type": "markdown",
   "metadata": {},
   "source": [
    "# Задача 2\n",
    "Условие:\n",
    "На входной двери подъезда установлен кодовый замок, содержащий десять кнопок с цифрами от 0 до 9. Код содержит три цифры, которые нужно нажать одновременно. Какова вероятность того, что человек, не знающий код, откроет дверь с первой попытки?\n",
    "\n",
    "# Формула подсчета количества сочетаний по k элементов из множества n\n",
    "#    C(nk) = n!/(k!*(n - k)!)\n",
    "\n",
    "    P(A)=m/n - общее количество исходов определяется кол-ом сочетаний из 10 возможных 3,\n",
    "    а количество благоприятных исходов открытия замка 1"
   ]
  },
  {
   "cell_type": "code",
   "execution_count": 6,
   "metadata": {},
   "outputs": [],
   "source": [
    "def f_combination(n, k):\n",
    "    return (factorial(n) / (factorial(k) * factorial(n-k)))"
   ]
  },
  {
   "cell_type": "code",
   "execution_count": 7,
   "metadata": {},
   "outputs": [
    {
     "name": "stdout",
     "output_type": "stream",
     "text": [
      "\n",
      "<<< Вероятность того, что замок откроется с первой попытки = 0.833% >>>\n"
     ]
    }
   ],
   "source": [
    "m = 1  # m = 1\n",
    "n = f_combination(10, 3)  # n = из \"10\" \"3\"\n",
    "P = m / n\n",
    "print(\n",
    "    f'\\n<<< Вероятность того, что замок откроется с первой попытки = {round(P*100,3)}% >>>')"
   ]
  },
  {
   "attachments": {},
   "cell_type": "markdown",
   "metadata": {},
   "source": [
    "# Задача 3\n",
    "Условие:\n",
    "В ящике имеется 15 деталей, из которых 9 окрашены. Рабочий случайным образом извлекает 3 детали. \n",
    "Какова вероятность того, что все извлеченные детали окрашены?"
   ]
  },
  {
   "cell_type": "code",
   "execution_count": 8,
   "metadata": {},
   "outputs": [],
   "source": [
    "def f_combination(n, k):\n",
    "    return (factorial(n) / (factorial(k) * factorial(n-k)))"
   ]
  },
  {
   "attachments": {},
   "cell_type": "markdown",
   "metadata": {},
   "source": [
    "P(A)=m/n - общее количество исходов определяется кол-ом сочетаний из 15 возможных 3,\n",
    "    а количество благоприятных исходов, что все детали окрашены из 9 возможных 3"
   ]
  },
  {
   "cell_type": "code",
   "execution_count": 9,
   "metadata": {},
   "outputs": [
    {
     "name": "stdout",
     "output_type": "stream",
     "text": [
      "\n",
      "<<< Вероятность того, что все 3 детали окрашены = 18.462% >>>\n"
     ]
    }
   ],
   "source": [
    "m = f_combination(9, 3)  # m = из \"9\" \"3\"\n",
    "n = f_combination(15, 3)  # n = из \"15\" \"3\"\n",
    "P = m / n\n",
    "print(\n",
    "    f'\\n<<< Вероятность того, что все 3 детали окрашены = {round(P*100,3)}% >>>')"
   ]
  },
  {
   "attachments": {},
   "cell_type": "markdown",
   "metadata": {},
   "source": [
    "# Задача 4\n",
    "Условие:\n",
    "В лотерее 100 билетов. Из них 2 выигрышных. \n",
    "Какова вероятность того, что 2 приобретенных билета окажутся выигрышными?"
   ]
  },
  {
   "cell_type": "code",
   "execution_count": 10,
   "metadata": {},
   "outputs": [],
   "source": [
    "def f_combination(n, k):\n",
    "    return (factorial(n) / (factorial(k) * factorial(n-k)))"
   ]
  },
  {
   "attachments": {},
   "cell_type": "markdown",
   "metadata": {},
   "source": [
    "P(A)=m/n - общее количество исходов определяется кол-ом сочетаний из 100 возможных 2,\n",
    "    а количество благоприятных исходов, что 2 приобретенных билета окажутся выигрышными  только 1"
   ]
  },
  {
   "cell_type": "code",
   "execution_count": 11,
   "metadata": {},
   "outputs": [
    {
     "name": "stdout",
     "output_type": "stream",
     "text": [
      "\n",
      "<<< Вероятность того, что 2 билета выиграли = 0.02% >>>\n"
     ]
    }
   ],
   "source": [
    "m = 1  # m = 1\n",
    "n = f_combination(100, 2)  # n = из \"10\" \"3\"\n",
    "P = m / n\n",
    "print(\n",
    "    f'\\n<<< Вероятность того, что 2 билета выиграли = {round(P*100,3)}% >>>')"
   ]
  },
  {
   "attachments": {},
   "cell_type": "markdown",
   "metadata": {},
   "source": [
    "# Тема 2\n",
    "# Дискретные распределения вероятностей"
   ]
  },
  {
   "cell_type": "code",
   "execution_count": 17,
   "metadata": {},
   "outputs": [],
   "source": [
    "from os import system\n",
    "from math import factorial\n",
    "system(\"cls\")\n",
    "from math import exp"
   ]
  },
  {
   "attachments": {},
   "cell_type": "markdown",
   "metadata": {},
   "source": [
    "Задача 1\n",
    "Вероятность того, что стрелок попадет в мишень, выстрелив один раз, равна 0.8. Стрелок выстрелил 100 раз. \n",
    "Найдите вероятность того, что стрелок попадет в цель ровно 85 раз.\n"
   ]
  },
  {
   "cell_type": "code",
   "execution_count": 12,
   "metadata": {},
   "outputs": [
    {
     "name": "stdout",
     "output_type": "stream",
     "text": [
      "Вероятность того, что стрелок попадет в цель ровно 85 раз = 0.04806 -> 4.81%\n"
     ]
    }
   ],
   "source": [
    "def probability(n, k, p):  # формула Бернулли\n",
    "    formula = factorial(n)/(factorial(k)*factorial(n-k))\n",
    "    return formula*(p**k)*(1-p)**(n-k)\n",
    "\n",
    "n = 100\n",
    "k = 85\n",
    "p = 0.8\n",
    "\n",
    "print(f'Вероятность того, что стрелок попадет в цель ровно 85 раз = {probability(n,k,p):.5f} -> {probability(n,k,p)*100:1.2f}%')"
   ]
  },
  {
   "attachments": {},
   "cell_type": "markdown",
   "metadata": {},
   "source": [
    "Задача 2\n",
    "Вероятность того, что лампочка перегорит в течение первого дня эксплуатации, равна 0.0004. \n",
    "В жилом комплексе после ремонта в один день включили 5000 новых лампочек. \n",
    "Какова вероятность, что ни одна из них не перегорит в первый день? Какова вероятность, что перегорят ровно две?\n",
    "\n",
    "# Большое кол-во испытаний, вероятностьнаступления меньше чем 0.1"
   ]
  },
  {
   "cell_type": "code",
   "execution_count": 18,
   "metadata": {},
   "outputs": [
    {
     "name": "stdout",
     "output_type": "stream",
     "text": [
      "Вероятность, что ни одна из них не перегорит в первый день = 0.13534 -> 13.53% \n",
      "\n",
      "Вероятность, что перегорят ровно две лампочки = 0.27067 -> 27.07%\n"
     ]
    }
   ],
   "source": [
    "def probability(m, p, n):  # Распределение Пуассона\n",
    "    λ = p*n\n",
    "    return exp(-λ)*(λ**m)/factorial(m)\n",
    "\n",
    "\n",
    "m1 = 0\n",
    "m2 = 2\n",
    "p = 0.0004\n",
    "n = 5000\n",
    "print(\n",
    "    f'Вероятность, что ни одна из них не перегорит в первый день = {probability(m1,p,n):.5f} -> {probability(m1,p,n)*100:1.2f}% ')\n",
    "\n",
    "print(\n",
    "    f'\\nВероятность, что перегорят ровно две лампочки = {probability(m2,p,n):.5f} -> {probability(m2,p,n)*100:1.2f}%')"
   ]
  },
  {
   "attachments": {},
   "cell_type": "markdown",
   "metadata": {},
   "source": [
    "Задача 3\n",
    "Монету подбросили 144 раза. Какова вероятность, что вероятность, что орел выпадет ровно 70 раз?"
   ]
  },
  {
   "cell_type": "code",
   "execution_count": 19,
   "metadata": {},
   "outputs": [
    {
     "name": "stdout",
     "output_type": "stream",
     "text": [
      "Вероятность того, что орел выпадет ровно 70 раз = 0.06281 -> 6.28%\n"
     ]
    }
   ],
   "source": [
    "def probability(n, k, p):  # формула Бернулли\n",
    "    formula = factorial(n)/(factorial(k)*factorial(n-k))\n",
    "    return formula*(p**k)*(1-p)**(n-k)\n",
    "\n",
    "\n",
    "n = 144\n",
    "k = 70\n",
    "p = 0.5\n",
    "\n",
    "\n",
    "print(\n",
    "    f'Вероятность того, что орел выпадет ровно 70 раз = {probability(n,k,p):.5f} -> {probability(n,k,p)*100:1.2f}%')"
   ]
  },
  {
   "attachments": {},
   "cell_type": "markdown",
   "metadata": {},
   "source": [
    "Задача 4\n",
    "В первом ящике находится 10 мячей, из которых 7 - белые. Во втором ящике - 11 мячей, из которых 9 белых. \n",
    "Из каждого ящика вытаскивают случайным образом по два мяча. \n",
    "Какова вероятность того, что все мячи белые? \n",
    "Какова вероятность того, что ровно два мяча белые? \n",
    "Какова вероятность того, что хотя бы один мяч белый?"
   ]
  },
  {
   "cell_type": "code",
   "execution_count": 20,
   "metadata": {},
   "outputs": [
    {
     "name": "stdout",
     "output_type": "stream",
     "text": [
      ">>> Вероятность, что все мячи белые = 0.30545 -> 30.55%\n",
      ">>> Вероятность того, что ровно два мяча белые = 0.20485 -> 20.48%\n",
      ">>> Вероятность того, что хотя бы один мяч белый 0.99879 -> 99.88%\n"
     ]
    }
   ],
   "source": [
    "def f_combination(n, k):\n",
    "    return (factorial(n) / (factorial(k) * factorial(n-k)))\n",
    "\n",
    "\n",
    "# Вероятность того, что все мячи белые\n",
    "probability = f_combination(7, 2)*f_combination(3, 0)/f_combination(10, 2) * \\\n",
    "    f_combination(9, 2)*f_combination(2, 0)/f_combination(11, 2)\n",
    "print(\n",
    "    f\">>> Вероятность, что все мячи белые = {probability:.5f} -> {probability*100:0.2f}%\")\n",
    "\n",
    "# Вероятность того, что ровно два мяча белые\n",
    "probability = f_combination(7, 2)*f_combination(3, 0)/f_combination(10, 2) * f_combination(9, 0)*f_combination(2, 2)/f_combination(11, 2) \\\n",
    "    + f_combination(7, 1)*f_combination(3, 1)/f_combination(10, 2) * f_combination(9, 1)*f_combination(2, 1)/f_combination(11, 2) \\\n",
    "    + f_combination(7, 0)*f_combination(3, 2)/f_combination(10, 2) * \\\n",
    "    f_combination(9, 2)*f_combination(2, 0)/f_combination(11, 2)\n",
    "print(\n",
    "    f\">>> Вероятность того, что ровно два мяча белые = {probability:.5f} -> {probability*100:0.2f}%\")\n",
    "\n",
    "# Вероятность того, что хотя бы один мяч белый\n",
    "probability = 1 - f_combination(7, 0)*f_combination(3, 2)/f_combination(\n",
    "    10, 2) * f_combination(9, 0)*f_combination(2, 2)/f_combination(11, 2)\n",
    "print(\n",
    "    f\">>> Вероятность того, что хотя бы один мяч белый {probability:.5f} -> {probability*100:0.2f}%\")"
   ]
  },
  {
   "attachments": {},
   "cell_type": "markdown",
   "metadata": {},
   "source": [
    "# Тема 3\n",
    "# Разведочный анализ или EDA"
   ]
  },
  {
   "attachments": {},
   "cell_type": "markdown",
   "metadata": {},
   "source": [
    "Задача 1\n",
    "Даны значения зарплат из выборки выпускников: 100, 80, 75, 77, 89, 33, 45, 25, 65, 17, 30, 24, 57, 55, 70, 75, 65, 84, 90, 150. \n",
    "Посчитать (желательно без использования статистических методов наподобие std, var, mean) среднее арифметическое, \n",
    "среднее квадратичное отклонение, смещенную и несмещенную оценки дисперсий для данной выборки.\n",
    "'''\n",
    "# Среднее арифметическое (mean) можно вычислить, суммируя все значения массива и деля их на количество элементов в массиве."
   ]
  },
  {
   "cell_type": "code",
   "execution_count": 21,
   "metadata": {},
   "outputs": [
    {
     "data": {
      "text/plain": [
       "0"
      ]
     },
     "execution_count": 21,
     "metadata": {},
     "output_type": "execute_result"
    }
   ],
   "source": [
    "import math\n",
    "import numpy as np\n",
    "from os import system\n",
    "system(\"cls\")"
   ]
  },
  {
   "cell_type": "code",
   "execution_count": 22,
   "metadata": {},
   "outputs": [
    {
     "name": "stdout",
     "output_type": "stream",
     "text": [
      "Cреднее арифметическое =  65.30\n",
      "\n",
      "Cреднее квадратичное отклонение =  30.8239\n",
      "\n",
      "Смещенная оценка дисперсии =  950.11\n",
      "\n",
      "Несмещенная оценка дисперсии =  1000.1158\n",
      "\n",
      "==================================================\n",
      "\n",
      "Если же нужно сделать это более оптимально и быстро можно использовать библиотеку numpy и ее функции mean, var, std и.т.д\n",
      "\n",
      "Mean:  65.3\n",
      "Std deviation:  30.823854398825596\n",
      "Variance:  950.11\n",
      "Unbiased variance:  1000.1157894736842\n"
     ]
    }
   ],
   "source": [
    "salaries = [100, 80, 75, 77, 89, 33, 45, 25, 65,\n",
    "            17, 30, 24, 57, 55, 70, 75, 65, 84, 90, 150]\n",
    "\n",
    "mean = sum(salaries) / len(salaries)\n",
    "print(f'Cреднее арифметическое = {mean: .2f}')\n",
    "\n",
    "\n",
    "# Среднее квадратичное отклонение(standard deviation) можно вычислить, используя формулу: σ = √ ( ( ∑ ( xi - μ )² ) / N )\n",
    "\n",
    "stddev = math.sqrt(sum((x - mean) ** 2 for x in salaries) / len(salaries))\n",
    "print(f'\\nCреднее квадратичное отклонение = {stddev: .4f}')\n",
    "\n",
    "# Смещенная оценка дисперсии можно вычислить, используя формулу: σ² = (∑ (xi - μ)²) / N\n",
    "var = sum((x - mean) ** 2 for x in salaries) / len(salaries)\n",
    "print('\\nСмещенная оценка дисперсии = ', var)\n",
    "\n",
    "# Несмещенная оценка дисперсии можно вычислить, используя формулу: σ² = ( ∑ ( xi - μ )² ) / (N-1)\n",
    "unbiased_var = sum((x - mean) ** 2 for x in salaries) / (len(salaries) - 1)\n",
    "print(f'\\nНесмещенная оценка дисперсии = {unbiased_var: .4f}')\n",
    "\n",
    "\n",
    "# =======================================================================================================\n",
    "\n",
    "print(\"\\n\" + \"=\" * 50)\n",
    "print('\\nЕсли же нужно сделать это более оптимально и быстро можно использовать библиотеку numpy и ее функции mean, var, std и.т.д\\n')\n",
    "\n",
    "mean = np.mean(salaries)\n",
    "print(\"Mean: \", mean)\n",
    "\n",
    "stddev = np.std(salaries)\n",
    "print(\"Std deviation: \", stddev)\n",
    "\n",
    "var = np.var(salaries)\n",
    "print(\"Variance: \", var)\n",
    "\n",
    "unbiased_var = np.var(salaries, ddof=1)\n",
    "print(\"Unbiased variance: \", unbiased_var)"
   ]
  },
  {
   "attachments": {},
   "cell_type": "markdown",
   "metadata": {},
   "source": [
    "Задача 2\n",
    "В первом ящике находится 8 мячей, из которых 5 - белые. Во втором ящике - 12 мячей, из которых 5 белых.\n",
    "Из первого ящика вытаскивают случайным образом два мяча, из второго - 4. \n",
    "Какова вероятность того, что 3 мяча белые? "
   ]
  },
  {
   "cell_type": "code",
   "execution_count": 23,
   "metadata": {},
   "outputs": [
    {
     "name": "stdout",
     "output_type": "stream",
     "text": [
      ">>> Вероятность, что 3 мяча белые =  0.36869 -> 36.87%\n"
     ]
    }
   ],
   "source": [
    "def f_combination(n, k):\n",
    "    return (factorial(n) / (factorial(k) * factorial(n-k)))\n",
    "\n",
    "\n",
    "probability = f_combination(5, 2)*f_combination(3, 0)/f_combination(8, 2) * f_combination(5, 1)*f_combination(7, 3)/f_combination(12, 4) \\\n",
    "    + f_combination(5, 1)*f_combination(3, 1)/f_combination(8, 2) * f_combination(5, 2)*f_combination(7, 2)/f_combination(12, 4) \\\n",
    "    + f_combination(5, 0)*f_combination(3, 2)/f_combination(8, 2) * \\\n",
    "    f_combination(5, 3)*f_combination(7, 1)/f_combination(12, 4)\n",
    "print(\n",
    "    f\">>> Вероятность, что 3 мяча белые = {probability: .5f} -> {probability*100:0.2f}%\")"
   ]
  },
  {
   "attachments": {},
   "cell_type": "markdown",
   "metadata": {},
   "source": [
    "Задача 3\n",
    "На соревновании по биатлону один из трех спортсменов стреляет и попадает в мишень. \n",
    "Вероятность попадания для первого спортсмена равна 0.9, для второго — 0.8, для третьего — 0.6. \n",
    "Найти вероятность того, что выстрел произведен: \n",
    "a. первым спортсменом \n",
    "б. вторым спортсменом \n",
    "в. третьим спортсменом."
   ]
  },
  {
   "cell_type": "code",
   "execution_count": 28,
   "metadata": {},
   "outputs": [
    {
     "name": "stdout",
     "output_type": "stream",
     "text": [
      "<<< Полная вероятность наступления события А Р(А) = 0.7667 >>>\n",
      "\n",
      " >>> Вероятность того, что выстрел произвёл первый спортсмен: 0.3913 -> 39.13%\n",
      " >>> Вероятность того, что выстрел произвёл второй спортсмен: 0.3478 -> 34.78%\n",
      " >>> Вероятность того, что выстрел произвёл третий спортсмен: 0.2609 -> 26.09%\n"
     ]
    }
   ],
   "source": [
    "p1 = 0.9  # вероятность попадания для первого спортсмена\n",
    "p2 = 0.8  # вероятность попадания для второго спортсмена\n",
    "p3 = 0.6  # вероятность попадания для третьего спортсмена\n",
    "PB = 1/3\n",
    "PA = PB*p1+PB*p2+PB*p3\n",
    "\n",
    "print(f'<<< Полная вероятность наступления события А Р(А) = {PA:.4f} >>>')\n",
    "\n",
    "# с помощью формулы Байеса оценим вероятность того, что имело место одно из событий\n",
    "p_first = PB*p1/PA\n",
    "p_second = PB*p2/PA\n",
    "p_third = PB*p3/PA\n",
    "print(f'\\n >>> Вероятность того, что выстрел произвёл первый спортсмен: {p_first:.4f} -> {p_first * 100:.2f}%\\n'\n",
    "      f' >>> Вероятность того, что выстрел произвёл второй спортсмен: {p_second:.4f} -> {p_second * 100:.2f}%\\n'\n",
    "      f' >>> Вероятность того, что выстрел произвёл третий спортсмен: {p_third:.4f} -> {p_third*100:.2f}%')"
   ]
  },
  {
   "attachments": {},
   "cell_type": "markdown",
   "metadata": {},
   "source": [
    "Задача 4\n",
    "В университет на факультеты A и B поступило равное количество студентов, а на факультет C студентов поступило столько же, сколько на A и B вместе.\n",
    "Вероятность того, что студент факультета A сдаст первую сессию, равна 0.8. \n",
    "Для студента факультета B эта вероятность равна 0.7, а для студента факультета C - 0.9. \n",
    "Студент сдал первую сессию. Какова вероятность, что он учится: \n",
    "      a. на факультете A \n",
    "      б. на факультете B \n",
    "      в. на факультете C"
   ]
  },
  {
   "cell_type": "code",
   "execution_count": 27,
   "metadata": {},
   "outputs": [
    {
     "name": "stdout",
     "output_type": "stream",
     "text": [
      "<<< Полная вероятность наступления события D, P(D) = 0.825 >>>\n",
      "\n",
      " >>> Вероятность того, что студент учится на факультете А: 0.2424 -> 24.24%\n",
      " >>> Вероятность того, что студент учится на факультете B: 0.2121 -> 21.21%\n",
      " >>> Вероятность того, что студент учится на факультете C: 0.5455 -> 54.55%\n"
     ]
    }
   ],
   "source": [
    "a = 0.8\n",
    "b = 0.7\n",
    "c = 0.9\n",
    "faculty_a = 0.25\n",
    "faculty_b = 0.25\n",
    "faculty_c = 0.5\n",
    "\n",
    "PD = faculty_a*a+faculty_b*b+faculty_c*c\n",
    "print(f'<<< Полная вероятность наступления события D, P(D) = {PD} >>>')\n",
    "\n",
    "# формуле Байеса вычислим вероятность того, на каком факультете учится студент, успешно сдавший сессию\n",
    "a_given = faculty_a*a/PD\n",
    "b_given = faculty_b*b/PD\n",
    "c_given = faculty_c*c/PD\n",
    "print(f'\\n >>> Вероятность того, что студент учится на факультете А: {a_given:.4f} -> {a_given*100:.2f}%\\n'\n",
    "      f' >>> Вероятность того, что студент учится на факультете B: {b_given:.4f} -> {b_given*100:.2f}%\\n'\n",
    "      f' >>> Вероятность того, что студент учится на факультете C: {c_given:.4f} -> {c_given*100:.2f}%')"
   ]
  },
  {
   "attachments": {},
   "cell_type": "markdown",
   "metadata": {},
   "source": [
    "Задача 5\n",
    "Устройство состоит из трех деталей. Для первой детали вероятность выйти из строя в первый месяц равна 0.1, для второй - 0.2, для третьей - 0.25.\n",
    "Какова вероятность того, что в первый месяц выйдут из строя: \n",
    "    а. все детали \n",
    "    б. только две детали \n",
    "    в. хотя бы одна деталь \n",
    "    г. от одной до двух деталей?"
   ]
  },
  {
   "cell_type": "code",
   "execution_count": 26,
   "metadata": {},
   "outputs": [
    {
     "name": "stdout",
     "output_type": "stream",
     "text": [
      ">>> Вероятность того, что из строя выйдут все детали = 0.005 -> 0.50%\n",
      ">>> Вероятность того, что из строя выйдут только 2 детали = 0.08 -> 8.00%\n",
      ">>> Вероятность того, что из строя выйдет хотя бы одна деталь = 0.46 -> 46.00%\n",
      ">>> Вероятность того, что выйдут из строя от 1й до 2х деталей = 0.455 -> 8.38%\n"
     ]
    }
   ],
   "source": [
    "p1 = 0.1\n",
    "p2 = 0.2\n",
    "p3 = 0.25\n",
    "\n",
    "# а) Вероятность для всех деталей выйти из строя в первый месяц:\n",
    "Pa = p1*p2*p3\n",
    "print(\n",
    "    f'>>> Вероятность того, что из строя выйдут все детали = {Pa:.3f} -> {Pa*100:.2f}%')\n",
    "\n",
    "\n",
    "# б) Вероятность того, что в первый месяц выйдут из строя только две детали:\n",
    "Pb = p1*p2*(1-p3)+p1*p3*(1-p2)+p2*p3*(1-p1)\n",
    "print(\n",
    "    f'>>> Вероятность того, что из строя выйдут только 2 детали = {Pb:.2f} -> {Pb*100:.2f}%')\n",
    "\n",
    "\n",
    "# в) Вероятность того, что в первый месяц выйдет из строя хотя бы одна деталь:\n",
    "\n",
    "Pv = 1-(1-p1)*(1-p2)*(1-p3)\n",
    "print(\n",
    "    f'>>> Вероятность того, что из строя выйдет хотя бы одна деталь = {Pv:.2f} -> {Pv*100:.2f}%')\n",
    "\n",
    "\n",
    "# г) Вероятность того, что в первый месяц выйдут из строя от одной до двух деталей:\n",
    "Pg = p1*(1-p2)*(1-p3)+p2*(1-p1)*(1-p3)+p3*(1-p1)*(1-p2)\n",
    "print(\n",
    "    f'>>> Вероятность того, что выйдут из строя от 1й до 2х деталей = {Pg+Pb:.3f} -> {Pg+Pb*100:.2f}%')"
   ]
  },
  {
   "attachments": {},
   "cell_type": "markdown",
   "metadata": {},
   "source": [
    "# Тема 4\n",
    "# Непрерывная случайная величина"
   ]
  },
  {
   "attachments": {},
   "cell_type": "markdown",
   "metadata": {},
   "source": [
    "Задача 1\n",
    "Условие:\n",
    "Случайная непрерывная величина A имеет равномерное распределение на промежутке (200, 800].\n",
    "Найдите ее среднее значение и дисперсию."
   ]
  },
  {
   "cell_type": "code",
   "execution_count": 25,
   "metadata": {},
   "outputs": [
    {
     "name": "stdout",
     "output_type": "stream",
     "text": [
      "На промежутке (200, 800]\n",
      "Среднее значение: М(А) =  500\n",
      "Дисперсия: D(A) =  30000\n"
     ]
    }
   ],
   "source": [
    "a = 200\n",
    "b = 800\n",
    "print(f'На промежутке ({a}, {b}]\\nСреднее значение: М(А) = {(a+b)/2: .0f}\\nДисперсия: D(A) = {((b-a)**2)/12: .0f}')"
   ]
  },
  {
   "attachments": {},
   "cell_type": "markdown",
   "metadata": {},
   "source": [
    "Задача 2\n",
    "Условие:\n",
    "О случайной непрерывной равномерно распределенной величине B известно, что ее дисперсия равна 0.2.\n",
    "Можно ли найти правую границу величины B и ее среднее значение зная, что левая граница равна 0.5?\n",
    "Если да, найдите ее."
   ]
  },
  {
   "cell_type": "code",
   "execution_count": 24,
   "metadata": {},
   "outputs": [
    {
     "name": "stdout",
     "output_type": "stream",
     "text": [
      "Правая граница  величины В =  2.049\n",
      "Среднее значение В на промежутке (0.5;  2.049) M(B) =  1.275\n"
     ]
    }
   ],
   "source": [
    "a = 0.5\n",
    "d = 0.2\n",
    "b = a+(d*12)**(1/2)\n",
    "print(f'Правая граница  величины В = {b: .3f}\\n'\n",
    "      f'Среднее значение В на промежутке ({a}; {b: .3f}) M(B) = {(b+0.5)/2: .3f}')"
   ]
  },
  {
   "attachments": {},
   "cell_type": "markdown",
   "metadata": {},
   "source": [
    "Условие:\n",
    "Непрерывная случайная величина X распределена нормально и задана плотностью распределения\n",
    "f(x) = (1 / (4 * sqrt(2pi))) * exp((-(x+2)**2) / 32)\n",
    "Найдите:\n",
    "    а. M(X)\n",
    "    б. D(X)\n",
    "    в. std(X) (среднее квадратичное отклонение)"
   ]
  },
  {
   "cell_type": "code",
   "execution_count": 29,
   "metadata": {},
   "outputs": [
    {
     "name": "stdout",
     "output_type": "stream",
     "text": [
      "M(x) = a = -2 \n",
      "std(x) = 4 \n",
      "D(x) = std(x)^2 = 16 \n",
      "\n"
     ]
    }
   ],
   "source": [
    "print('M(x) = a = -2 \\n'\n",
    "      'std(x) = 4 \\n'\n",
    "      'D(x) = std(x)^2 = 16 \\n')"
   ]
  },
  {
   "attachments": {},
   "cell_type": "markdown",
   "metadata": {},
   "source": [
    "Задача 4\n",
    "Условие:\n",
    "Рост взрослого населения города X имеет нормальное распределение.\n",
    "Причем, средний рост равен 174 см, а среднее квадратичное отклонение равно 8 см.\n",
    "Какова вероятность того, что случайным образом выбранный взрослый человек имеет рост:\n",
    "    а. больше 182 см\n",
    "    б. больше 190 см\n",
    "    в. от 166 см до 190 см\n",
    "    г. от 166 см до 182 см\n",
    "    д. от 158 см до 190 см\n",
    "    е. не выше 150 см или не ниже 190 см\n",
    "    ё. не выше 150 см или не ниже 198 см\n",
    "    ж. ниже 166 см."
   ]
  },
  {
   "cell_type": "code",
   "execution_count": 30,
   "metadata": {},
   "outputs": [
    {
     "data": {
      "text/plain": [
       "0"
      ]
     },
     "execution_count": 30,
     "metadata": {},
     "output_type": "execute_result"
    }
   ],
   "source": [
    "from scipy.stats import norm\n",
    "from os import system\n",
    "system(\"cls\")"
   ]
  },
  {
   "cell_type": "code",
   "execution_count": 31,
   "metadata": {},
   "outputs": [
    {
     "name": "stdout",
     "output_type": "stream",
     "text": [
      ">>> Вероятность роста больше 182 см =  0.1587\n",
      ">>> Вероятность роста больше 190 см =  0.0228\n",
      ">>> Вероятность роста от 166 см до 190 см =  0.8186\n",
      ">>> Вероятность роста от 166 см до 182 см =  0.6827\n",
      ">>> Вероятность роста от 158 см до 190 см =  0.9545\n",
      ">>> Вероятность роста не выше 150 см или не ниже 190 см =  0.0241\n",
      ">>> Вероятность роста не выше 150 см или не ниже 198 см =  0.0027\n",
      ">>> Вероятность роста ниже 166 см =  0.1587\n"
     ]
    }
   ],
   "source": [
    "mu = 174\n",
    "sigma = 8\n",
    "\n",
    "a = 182\n",
    "pa = 1-norm.cdf(a, mu, sigma)\n",
    "print(f'>>> Вероятность роста больше {a} см = {pa: .4f}')\n",
    "\n",
    "b = 190\n",
    "pb = 1-norm.cdf(b, mu, sigma)\n",
    "print(f'>>> Вероятность роста больше {b} см = {pb: .4f}')\n",
    "\n",
    "v1, v2 = 166, 190\n",
    "pv = norm.cdf(v2, mu, sigma)-norm.cdf(v1, mu, sigma)\n",
    "print(f'>>> Вероятность роста от {v1} см до {v2} см = {pv: .4f}')\n",
    "\n",
    "g1, g2 = 166, 182\n",
    "pg = norm.cdf(g2, mu, sigma)-norm.cdf(g1, mu, sigma)\n",
    "print(f'>>> Вероятность роста от {g1} см до {g2} см = {pg: .4f}')\n",
    "\n",
    "d1, d2 = 158, 190\n",
    "pd = norm.cdf(d2, mu, sigma)-norm.cdf(d1, mu, sigma)\n",
    "print(f'>>> Вероятность роста от {d1} см до {d2} см = {pd: .4f}')\n",
    "\n",
    "e1, e2 = 150, 190\n",
    "pe = norm.cdf(e1, mu, sigma)+1-norm.cdf(e2, mu, sigma)\n",
    "print(f'>>> Вероятность роста не выше {e1} см или не ниже {e2} см = {pe: .4f}')\n",
    "\n",
    "yo1, yo2 = 150, 198\n",
    "pyo = norm.cdf(yo1, mu, sigma)+1-norm.cdf(yo2, mu, sigma)\n",
    "print(\n",
    "    f'>>> Вероятность роста не выше {yo1} см или не ниже {yo2} см = {pyo: .4f}')\n",
    "\n",
    "zh = 166\n",
    "pzh = norm.cdf(zh, mu, sigma)\n",
    "print(f'>>> Вероятность роста ниже {zh} см = {pzh: .4f}')"
   ]
  },
  {
   "attachments": {},
   "cell_type": "markdown",
   "metadata": {},
   "source": [
    "Задача 5\n",
    "Условие:\n",
    "На сколько сигм (средних квадратичных отклонений) отклоняется рост человека, равный 190 см, \n",
    "от математического ожидания роста в популяции, в которой M(X) = 178 см и D(X) = 25 кв.см?"
   ]
  },
  {
   "cell_type": "code",
   "execution_count": 33,
   "metadata": {},
   "outputs": [
    {
     "data": {
      "text/plain": [
       "0"
      ]
     },
     "execution_count": 33,
     "metadata": {},
     "output_type": "execute_result"
    }
   ],
   "source": [
    "from math import sqrt\n",
    "from os import system\n",
    "system(\"cls\")"
   ]
  },
  {
   "cell_type": "code",
   "execution_count": 34,
   "metadata": {},
   "outputs": [
    {
     "name": "stdout",
     "output_type": "stream",
     "text": [
      "Рост человека, равный 190 см, отклоняется от математического ожидания роста в популяции на 2.4 сигм.\n"
     ]
    }
   ],
   "source": [
    "growth = 190\n",
    "mx = 178\n",
    "dx = 25\n",
    "std = sqrt(dx)\n",
    "sigma = (growth-mx)/std\n",
    "print(\n",
    "    f'Рост человека, равный {growth} см, отклоняется от математического ожидания роста в популяции на {sigma} сигм.')"
   ]
  },
  {
   "attachments": {},
   "cell_type": "markdown",
   "metadata": {},
   "source": [
    "# Тема 5\n",
    "# Тестирование гипотез (параметрические тесты)"
   ]
  },
  {
   "attachments": {},
   "cell_type": "markdown",
   "metadata": {},
   "source": [
    "Задача 1\n",
    "Условие:\n",
    "Когда используется критерий Стьюдента, а когда Z –критерий?\n",
    "\n",
    "Z-критерий\n",
    "\n",
    "Закон Z-критерия используется для проверки гипотезы о равенстве среднего значения генеральной совокупности с известным значением.\n",
    "Данный критерий используется для проверки гипотезы о нормальности распределения данных в выборке с известным значением среднего значения.Это позволяет оценить точность среднего значения измерения в генеральной совокупности, а также понять, насколько данные в выборке представляют собой нормальное распределение.\n",
    "\n",
    "t-критерий\n",
    "\n",
    "Критерий Стьюдента используется для сравнения средних значений двух групп. Также его можно использовать для сравнения средних значений двух выборок, если данные для двух групп распределены нормально.\n",
    "Закон Стьюдента позволяет оценить то, насколько средние значения двух групп отличаются."
   ]
  },
  {
   "attachments": {},
   "cell_type": "markdown",
   "metadata": {},
   "source": [
    "Задача 2\n",
    "Проведите тест гипотезы. Утверждается, что шарики для подшипников, изготовленные автоматическим станком, имеют средний диаметр 17 мм. Используя односторонний критерий с α=0,05, проверить эту гипотезу, если в выборке из n=100 шариков средний диаметр оказался равным 17.5 мм, а дисперсия известна и равна 4 кв. мм."
   ]
  },
  {
   "attachments": {},
   "cell_type": "markdown",
   "metadata": {},
   "source": [
    "Для проверки гипотезы будем использовать критерий Стьюдента для выборочного среднего.\n",
    "\n",
    "Формулируем нулевую и альтернативную гипотезы:\n",
    "\n",
    "m = 17мм - cредний диаметр шариков равен 17 мм\n",
    "m1 не= 17мм - средний диаметр шариков не равен 17 мм\n",
    "0,05 - уровень значимости альфа\n",
    "Вычисляем статистику теста Z:\n",
    "Z=(17.5-17)/sqrt(4)/sqrt(100)=2.5\n",
    "Ищем критическую область:\n",
    "Za/2=Zcrit=+-1.96\n",
    "Для данного значения статистики в таблице уровня значимости  соответствует критическое значение Z=1.645.\n",
    "Принимаем решение о приеме/отклонении нулевой гипотезы:\n",
    "2.5>1.645\n",
    "поэтому мы отклоняем нулевую гипотезу и принимаем альтернативную.\n",
    "\n",
    "Вывод:\n",
    "На основе полученных результатов мы можем сделать вывод, что средний диаметр шариков для подшипников, изготовленных автоматическим станком, не равен 17 мм."
   ]
  },
  {
   "cell_type": "code",
   "execution_count": 37,
   "metadata": {},
   "outputs": [],
   "source": [
    "# Проверка гипотезы\n",
    "import numpy as np\n",
    "import matplotlib.pyplot as plt\n",
    "from scipy.stats import norm"
   ]
  },
  {
   "cell_type": "code",
   "execution_count": 38,
   "metadata": {},
   "outputs": [],
   "source": [
    "# Параметры для проверки гипотезы\n",
    "mu = 17 # средний диаметр\n",
    "d = 17.5 # значение среднего диаметра в выборке\n",
    "sigma = 4 # стандартное отклонение\n",
    "n = 100 # размер выборки\n",
    "alpha = 0.05 # уровень значимости"
   ]
  },
  {
   "cell_type": "code",
   "execution_count": 39,
   "metadata": {},
   "outputs": [
    {
     "name": "stdout",
     "output_type": "stream",
     "text": [
      "2.5\n"
     ]
    }
   ],
   "source": [
    "# Расчет статистики теста\n",
    "z = (d - mu) / (sigma/2 / np.sqrt(n))\n",
    "print(z)"
   ]
  },
  {
   "cell_type": "code",
   "execution_count": 40,
   "metadata": {},
   "outputs": [
    {
     "name": "stdout",
     "output_type": "stream",
     "text": [
      "1.96\n",
      "1.645\n"
     ]
    }
   ],
   "source": [
    "# Расчет критической области\n",
    "zcritical = norm.ppf(1 - alpha / 2)\n",
    "alfa = norm.ppf(1 - alpha)\n",
    "print(f'{zcritical:.2f}')\n",
    "print(f'{alfa:.3f}')"
   ]
  },
  {
   "cell_type": "code",
   "execution_count": 41,
   "metadata": {},
   "outputs": [
    {
     "name": "stdout",
     "output_type": "stream",
     "text": [
      "Отклоняем нулевую гипотезу\n"
     ]
    }
   ],
   "source": [
    "# Принятие решения о приеме/отклонении нулевой гипотезы\n",
    "if z > alfa:\n",
    "    print(\"Отклоняем нулевую гипотезу\")\n",
    "else:\n",
    "    print(\"Принимаем нулевую гипотезу\")"
   ]
  },
  {
   "cell_type": "code",
   "execution_count": 42,
   "metadata": {},
   "outputs": [
    {
     "data": {
      "image/png": "[encoded data removed]",
      "text/plain": [
       "<Figure size 640x480 with 1 Axes>"
      ]
     },
     "metadata": {},
     "output_type": "display_data"
    }
   ],
   "source": [
    "# Предельное значение среднего\n",
    "s = np.sqrt(sigma/n)\n",
    "# Расчет значений Z\n",
    "x = np.linspace(mu - 3*s, mu + 3*s, 100)\n",
    "y = 1/(np.sqrt(2*np.pi*sigma/n)) * np.exp(-(x - mu)**2 / (2*sigma/n))\n",
    "# Построение графика\n",
    "plt.plot(x, y, label='Normal distribution')\n",
    "plt.axvline(x=mu, color='black', label='Mu')\n",
    "plt.axvline(x=d, color='red', label='d')\n",
    "plt.axvline(x=mu + zcritical*s, color='purple', label='Zcritical')\n",
    "plt.axvline(x=mu - zcritical*s, color='purple')\n",
    "plt.legend()\n",
    "plt.show()"
   ]
  },
  {
   "attachments": {},
   "cell_type": "markdown",
   "metadata": {},
   "source": [
    "График показывает распределение выборочного среднего, если нулевая гипотеза верна. \n",
    "Если значение среднего диаметра в выборке попадает в критическую область, мы отклоняем нулевую гипотезу о равенстве среднего диаметра 17 мм.\n",
    "\n",
    "Черная линия - это математическое ожидание μ,\n",
    "Красная линия - это значение среднего диаметра в выборке d,\n",
    "Пурпурная линия - это критическая область Zcritical."
   ]
  }
 ],
 "metadata": {
  "kernelspec": {
   "display_name": "base",
   "language": "python",
   "name": "python3"
  },
  "language_info": {
   "codemirror_mode": {
    "name": "ipython",
    "version": 3
   },
   "file_extension": ".py",
   "mimetype": "text/x-python",
   "name": "python",
   "nbconvert_exporter": "python",
   "pygments_lexer": "ipython3",
   "version": "3.9.13"
  },
  "orig_nbformat": 4
 },
 "nbformat": 4,
 "nbformat_minor": 2
}
